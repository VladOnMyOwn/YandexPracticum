{
 "cells": [
  {
   "cell_type": "markdown",
   "id": "a005df07",
   "metadata": {
    "pycharm": {
     "name": "#%% md\n"
    }
   },
   "source": [
    "### Горохов Владислав, ПМИ 433"
   ]
  },
  {
   "cell_type": "markdown",
   "id": "0e53a9e1",
   "metadata": {
    "pycharm": {
     "name": "#%% md\n"
    }
   },
   "source": [
    "#### Конверсия и повторные покупатели"
   ]
  },
  {
   "cell_type": "markdown",
   "id": "0b99a333-d009-4a75-bafd-b82344b4d867",
   "metadata": {},
   "source": [
    "##### №1"
   ]
  },
  {
   "cell_type": "code",
   "execution_count": 10,
   "id": "509758b2",
   "metadata": {
    "collapsed": false,
    "jupyter": {
     "outputs_hidden": false
    },
    "pycharm": {
     "name": "#%%\n"
    }
   },
   "outputs": [],
   "source": [
    "import pandas as pd"
   ]
  },
  {
   "cell_type": "code",
   "execution_count": 3,
   "id": "4a1c9311",
   "metadata": {
    "collapsed": false,
    "jupyter": {
     "outputs_hidden": false
    },
    "pycharm": {
     "name": "#%%\n"
    }
   },
   "outputs": [
    {
     "name": "stdout",
     "output_type": "stream",
     "text": [
      "                visits  purchases\n",
      "traffic_source                   \n",
      "context           2500        100\n",
      "email             1000         50\n"
     ]
    }
   ],
   "source": [
    "df_conv = pd.DataFrame({'traffic_source': ['context ', 'email'],\n",
    "                        'visits': [2500, 1000],\n",
    "                        'purchases': [100, 50]})\n",
    "df_conv.set_index('traffic_source', inplace=True)\n",
    "print(df_conv)"
   ]
  },
  {
   "cell_type": "code",
   "execution_count": 4,
   "id": "6b4a0e8d",
   "metadata": {
    "collapsed": false,
    "jupyter": {
     "outputs_hidden": false
    },
    "pycharm": {
     "name": "#%%\n"
    }
   },
   "outputs": [
    {
     "name": "stdout",
     "output_type": "stream",
     "text": [
      "Конверсия рассылок: 5.0%\n",
      "Конверсия контекстной рекламы: 4.0%\n"
     ]
    }
   ],
   "source": [
    "email_conversion = df_conv.iloc[1, :]['purchases'] / df_conv.iloc[1, :]['visits'] * 100\n",
    "context_conversion = df_conv.iloc[0, :]['purchases'] / df_conv.iloc[0, :]['visits'] * 100\n",
    "\n",
    "print('Конверсия рассылок: {}%'.format(email_conversion),\n",
    "      'Конверсия контекстной рекламы: {}%'.format(context_conversion), sep='\\n')"
   ]
  },
  {
   "cell_type": "markdown",
   "id": "07e21072",
   "metadata": {
    "pycharm": {
     "name": "#%% md\n"
    }
   },
   "source": [
    "##### №2"
   ]
  },
  {
   "cell_type": "code",
   "execution_count": 5,
   "id": "0da77fbc",
   "metadata": {
    "collapsed": false,
    "jupyter": {
     "outputs_hidden": false
    },
    "pycharm": {
     "name": "#%%\n"
    }
   },
   "outputs": [
    {
     "name": "stdout",
     "output_type": "stream",
     "text": [
      "Вывод: рассылки эффективнее\n"
     ]
    }
   ],
   "source": [
    "if email_conversion > context_conversion:\n",
    "    print('Вывод: рассылки эффективнее')\n",
    "else:\n",
    "    print('Вывод: контекстная реклама эффективнее')"
   ]
  },
  {
   "cell_type": "markdown",
   "id": "329bdde6",
   "metadata": {
    "pycharm": {
     "name": "#%% md\n"
    }
   },
   "source": [
    "##### №3"
   ]
  },
  {
   "cell_type": "code",
   "execution_count": 6,
   "id": "1f5c1bd6",
   "metadata": {
    "collapsed": false,
    "jupyter": {
     "outputs_hidden": false
    },
    "pycharm": {
     "name": "#%%\n"
    }
   },
   "outputs": [
    {
     "name": "stdout",
     "output_type": "stream",
     "text": [
      "Вывод: рассылки эффективнее\n"
     ]
    }
   ],
   "source": [
    "if email_conversion > context_conversion:\n",
    "    print('Вывод: рассылки эффективнее')\n",
    "elif email_conversion < context_conversion:\n",
    "    print('Вывод: контекстная реклама эффективнее')\n",
    "else:\n",
    "    print('Конверсии равны, пора смотреть другие метрики')"
   ]
  },
  {
   "cell_type": "markdown",
   "id": "4fd34158",
   "metadata": {
    "pycharm": {
     "name": "#%% md\n"
    }
   },
   "source": [
    "##### №4"
   ]
  },
  {
   "cell_type": "code",
   "execution_count": 7,
   "id": "b7869c01",
   "metadata": {
    "collapsed": false,
    "jupyter": {
     "outputs_hidden": false
    },
    "pycharm": {
     "name": "#%%\n"
    }
   },
   "outputs": [
    {
     "name": "stdout",
     "output_type": "stream",
     "text": [
      "                visits  purchases\n",
      "traffic_source                   \n",
      "context           2500        125\n",
      "email             1000         50\n",
      "\n",
      "Конверсии равны, пора смотреть другие метрики\n"
     ]
    }
   ],
   "source": [
    "df_conv.iloc[0, :]['purchases'] = 125\n",
    "\n",
    "email_conversion = df_conv.iloc[1, :]['purchases'] / df_conv.iloc[1, :]['visits'] * 100\n",
    "context_conversion = df_conv.iloc[0, :]['purchases'] / df_conv.iloc[0, :]['visits'] * 100\n",
    "\n",
    "print(df_conv, end='\\n\\n')\n",
    "\n",
    "if email_conversion > context_conversion:\n",
    "    print('Вывод: рассылки эффективнее')\n",
    "elif email_conversion < context_conversion:\n",
    "    print('Вывод: контекстная реклама эффективнее')\n",
    "else:\n",
    "    print('Конверсии равны, пора смотреть другие метрики')"
   ]
  },
  {
   "cell_type": "code",
   "execution_count": 8,
   "id": "43e1bd4d",
   "metadata": {
    "collapsed": false,
    "jupyter": {
     "outputs_hidden": false
    },
    "pycharm": {
     "name": "#%%\n"
    }
   },
   "outputs": [
    {
     "name": "stdout",
     "output_type": "stream",
     "text": [
      "                visits  purchases\n",
      "traffic_source                   \n",
      "context           2500        150\n",
      "email             1000         50\n",
      "\n",
      "Вывод: контекстная реклама эффективнее\n"
     ]
    }
   ],
   "source": [
    "df_conv.iloc[0, :]['purchases'] = 150\n",
    "\n",
    "email_conversion = df_conv.iloc[1, :]['purchases'] / df_conv.iloc[1, :]['visits'] * 100\n",
    "context_conversion = df_conv.iloc[0, :]['purchases'] / df_conv.iloc[0, :]['visits'] * 100\n",
    "\n",
    "print(df_conv, end='\\n\\n')\n",
    "\n",
    "if email_conversion > context_conversion:\n",
    "    print('Вывод: рассылки эффективнее')\n",
    "elif email_conversion < context_conversion:\n",
    "    print('Вывод: контекстная реклама эффективнее')\n",
    "else:\n",
    "    print('Конверсии равны, пора смотреть другие метрики')"
   ]
  },
  {
   "cell_type": "markdown",
   "id": "11bd9870",
   "metadata": {
    "pycharm": {
     "name": "#%% md\n"
    }
   },
   "source": [
    "##### №5"
   ]
  },
  {
   "cell_type": "code",
   "execution_count": 9,
   "id": "0b1892e6",
   "metadata": {
    "collapsed": false,
    "jupyter": {
     "outputs_hidden": false
    },
    "pycharm": {
     "name": "#%%\n"
    }
   },
   "outputs": [
    {
     "name": "stdout",
     "output_type": "stream",
     "text": [
      "Общее количество покупателей: 110\n"
     ]
    }
   ],
   "source": [
    "repeated_purchase = 10\n",
    "total = repeated_purchase + 100\n",
    "\n",
    "print('Общее количество покупателей: {}'.format(total))"
   ]
  },
  {
   "cell_type": "markdown",
   "id": "f05d77a3",
   "metadata": {
    "pycharm": {
     "name": "#%% md\n"
    }
   },
   "source": [
    "##### №6"
   ]
  },
  {
   "cell_type": "code",
   "execution_count": 16,
   "id": "75f80390",
   "metadata": {
    "collapsed": false,
    "jupyter": {
     "outputs_hidden": false
    },
    "pycharm": {
     "name": "#%%\n"
    }
   },
   "outputs": [
    {
     "name": "stdout",
     "output_type": "stream",
     "text": [
      "Доля повторных покупок равна 9.091%\n"
     ]
    }
   ],
   "source": [
    "repeated_purchase_part = repeated_purchase / total\n",
    "\n",
    "print('Доля повторных покупок равна {}%'.format(round(repeated_purchase_part * 100, 3)))"
   ]
  },
  {
   "cell_type": "markdown",
   "id": "db945b38",
   "metadata": {
    "pycharm": {
     "name": "#%% md\n"
    }
   },
   "source": [
    "##### №7"
   ]
  },
  {
   "cell_type": "code",
   "execution_count": 17,
   "id": "ad5a33a1",
   "metadata": {
    "collapsed": false,
    "jupyter": {
     "outputs_hidden": false
    },
    "pycharm": {
     "name": "#%%\n"
    }
   },
   "outputs": [
    {
     "name": "stdout",
     "output_type": "stream",
     "text": [
      "    source  first  repeated\n",
      "0  context   2933        96\n",
      "1    email    885       136\n",
      "2      smm   1653       139\n"
     ]
    }
   ],
   "source": [
    "purchases = pd.read_csv('./datasets/returned.csv')\n",
    "\n",
    "print(purchases)"
   ]
  },
  {
   "cell_type": "markdown",
   "id": "e64d1541",
   "metadata": {
    "pycharm": {
     "name": "#%% md\n"
    }
   },
   "source": [
    "##### №8"
   ]
  },
  {
   "cell_type": "code",
   "execution_count": 18,
   "id": "b9d31367",
   "metadata": {
    "collapsed": false,
    "jupyter": {
     "outputs_hidden": false
    },
    "pycharm": {
     "name": "#%%\n"
    }
   },
   "outputs": [
    {
     "name": "stdout",
     "output_type": "stream",
     "text": [
      "    source  first  repeated  total  repeated_share\n",
      "0  context   2933        96   3029        0.031694\n",
      "1    email    885       136   1021        0.133203\n",
      "2      smm   1653       139   1792        0.077567\n"
     ]
    }
   ],
   "source": [
    "purchases['total'] = purchases[['first', 'repeated']].apply(sum, 1)\n",
    "purchases['repeated_share'] = purchases['repeated'] / purchases['total']\n",
    "\n",
    "print(purchases)"
   ]
  },
  {
   "cell_type": "markdown",
   "id": "14c1663a",
   "metadata": {
    "pycharm": {
     "name": "#%% md\n"
    }
   },
   "source": [
    "##### №9"
   ]
  },
  {
   "cell_type": "code",
   "execution_count": 19,
   "id": "53e7de38",
   "metadata": {
    "collapsed": false,
    "jupyter": {
     "outputs_hidden": false
    },
    "pycharm": {
     "name": "#%%\n"
    }
   },
   "outputs": [
    {
     "name": "stdout",
     "output_type": "stream",
     "text": [
      "    source  first  repeated  total  repeated_share\n",
      "1    email    885       136   1021        0.133203\n",
      "2      smm   1653       139   1792        0.077567\n",
      "0  context   2933        96   3029        0.031694\n"
     ]
    }
   ],
   "source": [
    "print(purchases.sort_values('repeated_share', ascending=False))"
   ]
  },
  {
   "cell_type": "markdown",
   "id": "5e26f171",
   "metadata": {
    "pycharm": {
     "name": "#%% md\n"
    }
   },
   "source": [
    "#### User ID и куки"
   ]
  },
  {
   "cell_type": "markdown",
   "id": "1eed1dde",
   "metadata": {
    "pycharm": {
     "name": "#%% md\n"
    }
   },
   "source": [
    "##### №1"
   ]
  },
  {
   "cell_type": "code",
   "execution_count": 136,
   "id": "982e042e",
   "metadata": {
    "collapsed": false,
    "jupyter": {
     "outputs_hidden": false
    },
    "pycharm": {
     "name": "#%%\n"
    }
   },
   "outputs": [
    {
     "data": {
      "text/html": [
       "<div>\n",
       "<style scoped>\n",
       "    .dataframe tbody tr th:only-of-type {\n",
       "        vertical-align: middle;\n",
       "    }\n",
       "\n",
       "    .dataframe tbody tr th {\n",
       "        vertical-align: top;\n",
       "    }\n",
       "\n",
       "    .dataframe thead th {\n",
       "        text-align: right;\n",
       "    }\n",
       "</style>\n",
       "<table border=\"1\" class=\"dataframe\">\n",
       "  <thead>\n",
       "    <tr style=\"text-align: right;\">\n",
       "      <th></th>\n",
       "      <th>user_id</th>\n",
       "      <th>source</th>\n",
       "      <th>email</th>\n",
       "      <th>purchase</th>\n",
       "    </tr>\n",
       "  </thead>\n",
       "  <tbody>\n",
       "    <tr>\n",
       "      <th>0</th>\n",
       "      <td>7141786820</td>\n",
       "      <td>other</td>\n",
       "      <td>NaN</td>\n",
       "      <td>0</td>\n",
       "    </tr>\n",
       "    <tr>\n",
       "      <th>1</th>\n",
       "      <td>5644686960</td>\n",
       "      <td>email</td>\n",
       "      <td>c129aa540a</td>\n",
       "      <td>0</td>\n",
       "    </tr>\n",
       "    <tr>\n",
       "      <th>2</th>\n",
       "      <td>1914055396</td>\n",
       "      <td>context</td>\n",
       "      <td>NaN</td>\n",
       "      <td>0</td>\n",
       "    </tr>\n",
       "    <tr>\n",
       "      <th>3</th>\n",
       "      <td>4099355752</td>\n",
       "      <td>other</td>\n",
       "      <td>NaN</td>\n",
       "      <td>0</td>\n",
       "    </tr>\n",
       "    <tr>\n",
       "      <th>4</th>\n",
       "      <td>6032477554</td>\n",
       "      <td>context</td>\n",
       "      <td>NaN</td>\n",
       "      <td>1</td>\n",
       "    </tr>\n",
       "    <tr>\n",
       "      <th>...</th>\n",
       "      <td>...</td>\n",
       "      <td>...</td>\n",
       "      <td>...</td>\n",
       "      <td>...</td>\n",
       "    </tr>\n",
       "    <tr>\n",
       "      <th>199995</th>\n",
       "      <td>8714621942</td>\n",
       "      <td>other</td>\n",
       "      <td>NaN</td>\n",
       "      <td>0</td>\n",
       "    </tr>\n",
       "    <tr>\n",
       "      <th>199996</th>\n",
       "      <td>6064948744</td>\n",
       "      <td>context</td>\n",
       "      <td>NaN</td>\n",
       "      <td>1</td>\n",
       "    </tr>\n",
       "    <tr>\n",
       "      <th>199997</th>\n",
       "      <td>9210683879</td>\n",
       "      <td>context</td>\n",
       "      <td>NaN</td>\n",
       "      <td>0</td>\n",
       "    </tr>\n",
       "    <tr>\n",
       "      <th>199998</th>\n",
       "      <td>1629959686</td>\n",
       "      <td>other</td>\n",
       "      <td>NaN</td>\n",
       "      <td>1</td>\n",
       "    </tr>\n",
       "    <tr>\n",
       "      <th>199999</th>\n",
       "      <td>2089329795</td>\n",
       "      <td>other</td>\n",
       "      <td>NaN</td>\n",
       "      <td>0</td>\n",
       "    </tr>\n",
       "  </tbody>\n",
       "</table>\n",
       "<p>200000 rows × 4 columns</p>\n",
       "</div>"
      ],
      "text/plain": [
       "           user_id   source       email  purchase\n",
       "0       7141786820    other         NaN         0\n",
       "1       5644686960    email  c129aa540a         0\n",
       "2       1914055396  context         NaN         0\n",
       "3       4099355752    other         NaN         0\n",
       "4       6032477554  context         NaN         1\n",
       "...            ...      ...         ...       ...\n",
       "199995  8714621942    other         NaN         0\n",
       "199996  6064948744  context         NaN         1\n",
       "199997  9210683879  context         NaN         0\n",
       "199998  1629959686    other         NaN         1\n",
       "199999  2089329795    other         NaN         0\n",
       "\n",
       "[200000 rows x 4 columns]"
      ]
     },
     "execution_count": 136,
     "metadata": {},
     "output_type": "execute_result"
    }
   ],
   "source": [
    "logs = pd.read_csv('./datasets/logs.csv')\n",
    "\n",
    "logs"
   ]
  },
  {
   "cell_type": "markdown",
   "id": "e1f3817c",
   "metadata": {
    "pycharm": {
     "name": "#%% md\n"
    }
   },
   "source": [
    "##### №2"
   ]
  },
  {
   "cell_type": "code",
   "execution_count": 62,
   "id": "b8c21d49",
   "metadata": {
    "collapsed": false,
    "jupyter": {
     "outputs_hidden": false
    },
    "pycharm": {
     "name": "#%%\n"
    }
   },
   "outputs": [
    {
     "name": "stdout",
     "output_type": "stream",
     "text": [
      "<class 'pandas.core.frame.DataFrame'>\n",
      "RangeIndex: 200000 entries, 0 to 199999\n",
      "Data columns (total 4 columns):\n",
      " #   Column    Non-Null Count   Dtype \n",
      "---  ------    --------------   ----- \n",
      " 0   user_id   200000 non-null  int64 \n",
      " 1   source    200000 non-null  object\n",
      " 2   email     13953 non-null   object\n",
      " 3   purchase  200000 non-null  int64 \n",
      "dtypes: int64(2), object(2)\n",
      "memory usage: 6.1+ MB\n"
     ]
    }
   ],
   "source": [
    "logs.info()"
   ]
  },
  {
   "cell_type": "markdown",
   "id": "25c4f720",
   "metadata": {
    "pycharm": {
     "name": "#%% md\n"
    }
   },
   "source": [
    "##### №3"
   ]
  },
  {
   "cell_type": "code",
   "execution_count": 70,
   "id": "d3977b23",
   "metadata": {
    "collapsed": false,
    "jupyter": {
     "outputs_hidden": false
    },
    "pycharm": {
     "name": "#%%\n"
    }
   },
   "outputs": [
    {
     "name": "stdout",
     "output_type": "stream",
     "text": [
      "Уникальных email: 6063\n",
      "Уникальных User ID: 86571\n"
     ]
    }
   ],
   "source": [
    "unique_emails_count = len(logs['email'].unique())\n",
    "unique_userID_count = len(logs['user_id'].unique())\n",
    "\n",
    "print('Уникальных email: {}'.format(unique_emails_count),\n",
    "      'Уникальных User ID: {}'.format(unique_userID_count), sep='\\n')"
   ]
  },
  {
   "cell_type": "markdown",
   "id": "28dcfc02",
   "metadata": {
    "pycharm": {
     "name": "#%% md\n"
    }
   },
   "source": [
    "##### №4"
   ]
  },
  {
   "cell_type": "code",
   "execution_count": 72,
   "id": "fae4b1f3",
   "metadata": {
    "collapsed": false,
    "jupyter": {
     "outputs_hidden": false
    },
    "pycharm": {
     "name": "#%%\n"
    }
   },
   "outputs": [
    {
     "name": "stdout",
     "output_type": "stream",
     "text": [
      "['other' 'email' 'context' 'None' 'undef']\n"
     ]
    }
   ],
   "source": [
    "print(logs['source'].unique())"
   ]
  },
  {
   "cell_type": "markdown",
   "id": "5ef069a6",
   "metadata": {
    "pycharm": {
     "name": "#%% md\n"
    }
   },
   "source": [
    "### NaN и None"
   ]
  },
  {
   "cell_type": "code",
   "execution_count": 73,
   "id": "a0706439",
   "metadata": {
    "collapsed": false,
    "jupyter": {
     "outputs_hidden": false
    },
    "pycharm": {
     "name": "#%%\n"
    }
   },
   "outputs": [
    {
     "name": "stdout",
     "output_type": "stream",
     "text": [
      "other      133834\n",
      "context     52032\n",
      "email       12279\n",
      "None         1674\n",
      "undef         181\n",
      "Name: source, dtype: int64\n"
     ]
    }
   ],
   "source": [
    "print(logs['source'].value_counts())"
   ]
  },
  {
   "cell_type": "code",
   "execution_count": 74,
   "id": "7f84669f",
   "metadata": {
    "collapsed": false,
    "jupyter": {
     "outputs_hidden": false
    },
    "pycharm": {
     "name": "#%%\n"
    }
   },
   "outputs": [
    {
     "name": "stdout",
     "output_type": "stream",
     "text": [
      "      user_id   source email  purchase\n",
      "0  7141786820    other   NaN         0\n",
      "2  1914055396  context   NaN         0\n",
      "3  4099355752    other   NaN         0\n",
      "4  6032477554  context   NaN         1\n",
      "5  5872473344    other   NaN         0\n"
     ]
    }
   ],
   "source": [
    "print(logs[logs['email'].isna()].head())"
   ]
  },
  {
   "cell_type": "code",
   "execution_count": 78,
   "id": "26c14c7a",
   "metadata": {
    "collapsed": false,
    "jupyter": {
     "outputs_hidden": false
    },
    "pycharm": {
     "name": "#%%\n"
    }
   },
   "outputs": [
    {
     "name": "stdout",
     "output_type": "stream",
     "text": [
      "186047\n"
     ]
    }
   ],
   "source": [
    "print(len(logs[logs['email'].isna()]))"
   ]
  },
  {
   "cell_type": "code",
   "execution_count": 80,
   "id": "152a456a",
   "metadata": {
    "collapsed": false,
    "jupyter": {
     "outputs_hidden": false
    },
    "pycharm": {
     "name": "#%%\n"
    }
   },
   "outputs": [
    {
     "name": "stdout",
     "output_type": "stream",
     "text": [
      "  faculty_name      student_name  points\n",
      "0   Гриффиндор      Гарри Поттер      15\n",
      "1     Слизерин      Драко Малфой      28\n",
      "2    Когтевран    Полумна Лавгуд      10\n",
      "3          NaN         Рон Уизли       5\n",
      "4    Пуффендуй    Седрик Диггори      17\n",
      "5   Гриффиндор  Невилл Долгопупс      12\n"
     ]
    }
   ],
   "source": [
    "hogwarts_points = pd.read_csv('./datasets/hogwarts_points.csv')\n",
    "\n",
    "print(hogwarts_points)"
   ]
  },
  {
   "cell_type": "code",
   "execution_count": 81,
   "id": "c39c9675",
   "metadata": {
    "collapsed": false,
    "jupyter": {
     "outputs_hidden": false
    },
    "pycharm": {
     "name": "#%%\n"
    }
   },
   "outputs": [
    {
     "name": "stdout",
     "output_type": "stream",
     "text": [
      "87\n"
     ]
    }
   ],
   "source": [
    "print(hogwarts_points['points'].sum())"
   ]
  },
  {
   "cell_type": "code",
   "execution_count": 82,
   "id": "19b19479",
   "metadata": {
    "collapsed": false,
    "jupyter": {
     "outputs_hidden": false
    },
    "pycharm": {
     "name": "#%%\n"
    }
   },
   "outputs": [
    {
     "name": "stdout",
     "output_type": "stream",
     "text": [
      "faculty_name\n",
      "Гриффиндор    27\n",
      "Когтевран     10\n",
      "Пуффендуй     17\n",
      "Слизерин      28\n",
      "Name: points, dtype: int64\n"
     ]
    }
   ],
   "source": [
    "print(hogwarts_points.groupby('faculty_name')['points'].sum())"
   ]
  },
  {
   "cell_type": "code",
   "execution_count": 83,
   "id": "f170258e",
   "metadata": {
    "collapsed": false,
    "jupyter": {
     "outputs_hidden": false
    },
    "pycharm": {
     "name": "#%%\n"
    }
   },
   "outputs": [
    {
     "name": "stdout",
     "output_type": "stream",
     "text": [
      "82\n"
     ]
    }
   ],
   "source": [
    "print(hogwarts_points.groupby('faculty_name')['points'].sum().sum())"
   ]
  },
  {
   "cell_type": "code",
   "execution_count": 84,
   "id": "eeb14a8e",
   "metadata": {
    "collapsed": false,
    "jupyter": {
     "outputs_hidden": false
    },
    "pycharm": {
     "name": "#%%\n"
    }
   },
   "outputs": [
    {
     "name": "stdout",
     "output_type": "stream",
     "text": [
      "Кубок получает Слизерин\n"
     ]
    }
   ],
   "source": [
    "print('Кубок получает', hogwarts_points.groupby('faculty_name')['points'].sum().idxmax())"
   ]
  },
  {
   "cell_type": "markdown",
   "id": "21d7c771",
   "metadata": {},
   "source": [
    "##### №1"
   ]
  },
  {
   "cell_type": "code",
   "execution_count": 92,
   "id": "45022ce3",
   "metadata": {
    "collapsed": false,
    "jupyter": {
     "outputs_hidden": false
    },
    "pycharm": {
     "name": "#%%\n"
    }
   },
   "outputs": [
    {
     "name": "stdout",
     "output_type": "stream",
     "text": [
      "  faculty_name      student_name  points\n",
      "0   Гриффиндор      Гарри Поттер      15\n",
      "1     Слизерин      Драко Малфой      28\n",
      "2    Когтевран    Полумна Лавгуд      10\n",
      "3    Гиффиндор         Рон Уизли       5\n",
      "4    Пуффендуй    Седрик Диггори      17\n",
      "5   Гриффиндор  Невилл Долгопупс      12\n"
     ]
    }
   ],
   "source": [
    "hogwarts_points = hogwarts_points.fillna('Гиффиндор')\n",
    "\n",
    "print(hogwarts_points)"
   ]
  },
  {
   "cell_type": "code",
   "execution_count": 97,
   "id": "548b0d40",
   "metadata": {
    "collapsed": false,
    "jupyter": {
     "outputs_hidden": false
    },
    "pycharm": {
     "name": "#%%\n"
    }
   },
   "outputs": [
    {
     "name": "stdout",
     "output_type": "stream",
     "text": [
      "Сумма баллов учеников: 87\n",
      "Сумма баллов факультетов:\n",
      "faculty_name\n",
      "Гиффиндор      5\n",
      "Гриффиндор    27\n",
      "Когтевран     10\n",
      "Пуффендуй     17\n",
      "Слизерин      28\n",
      "Name: points, dtype: int64\n",
      "Кубок получает: Слизерин\n"
     ]
    }
   ],
   "source": [
    "print('Сумма баллов учеников: {}'.format(hogwarts_points['points'].sum()),\n",
    "      'Сумма баллов факультетов:\\n{}'.format(hogwarts_points.groupby('faculty_name')['points'].sum()),\n",
    "      'Кубок получает: {}'.format(hogwarts_points.groupby('faculty_name')['points'].sum().idxmax()),\n",
    "      sep='\\n')"
   ]
  },
  {
   "cell_type": "markdown",
   "id": "1bb70a3f",
   "metadata": {
    "pycharm": {
     "name": "#%% md\n"
    }
   },
   "source": [
    "##### №3"
   ]
  },
  {
   "cell_type": "code",
   "execution_count": 99,
   "id": "0f6266b5",
   "metadata": {
    "collapsed": false,
    "jupyter": {
     "outputs_hidden": false
    },
    "pycharm": {
     "name": "#%%\n"
    }
   },
   "outputs": [
    {
     "name": "stdout",
     "output_type": "stream",
     "text": [
      "other      133834\n",
      "context     52032\n",
      "email       12279\n",
      "None         1674\n",
      "undef         181\n",
      "Name: source, dtype: int64\n"
     ]
    }
   ],
   "source": [
    "visit = logs['source'].value_counts()\n",
    "\n",
    "print(visit)"
   ]
  },
  {
   "cell_type": "markdown",
   "id": "d3645927",
   "metadata": {
    "pycharm": {
     "name": "#%% md\n"
    }
   },
   "source": [
    "##### №4"
   ]
  },
  {
   "cell_type": "code",
   "execution_count": 101,
   "id": "d4f9836b",
   "metadata": {
    "collapsed": false,
    "jupyter": {
     "outputs_hidden": false
    },
    "pycharm": {
     "name": "#%%\n"
    }
   },
   "outputs": [
    {
     "name": "stdout",
     "output_type": "stream",
     "text": [
      "source\n",
      "None        108\n",
      "context    3029\n",
      "email       913\n",
      "other      8041\n",
      "undef        12\n",
      "Name: purchase, dtype: int64\n"
     ]
    }
   ],
   "source": [
    "purchase = logs.groupby('source')['purchase'].sum()\n",
    "\n",
    "print(purchase)"
   ]
  },
  {
   "cell_type": "markdown",
   "id": "c85458d1",
   "metadata": {
    "pycharm": {
     "name": "#%% md\n"
    }
   },
   "source": [
    "##### №5"
   ]
  },
  {
   "cell_type": "code",
   "execution_count": 111,
   "id": "37bf16fd",
   "metadata": {
    "collapsed": false,
    "jupyter": {
     "outputs_hidden": false
    },
    "pycharm": {
     "name": "#%%\n"
    }
   },
   "outputs": [
    {
     "name": "stdout",
     "output_type": "stream",
     "text": [
      "None       6.45\n",
      "context    5.82\n",
      "email      7.44\n",
      "other      6.01\n",
      "undef      6.63\n",
      "dtype: float64\n"
     ]
    }
   ],
   "source": [
    "conversion = (purchase / visit) * 100\n",
    "\n",
    "print(round(conversion, 2))"
   ]
  },
  {
   "cell_type": "markdown",
   "id": "e180def0",
   "metadata": {
    "pycharm": {
     "name": "#%% md\n"
    }
   },
   "source": [
    "### Категориальные и количественные переменные"
   ]
  },
  {
   "cell_type": "markdown",
   "id": "e0c1545d",
   "metadata": {
    "pycharm": {
     "name": "#%% md\n"
    }
   },
   "source": [
    "##### №1"
   ]
  },
  {
   "cell_type": "code",
   "execution_count": 116,
   "id": "fa6103f3",
   "metadata": {
    "collapsed": false,
    "jupyter": {
     "outputs_hidden": false
    },
    "pycharm": {
     "name": "#%%\n"
    }
   },
   "outputs": [],
   "source": [
    "variables = [\n",
    "    'name',  # название товара\n",
    "    'num_reviews',  # количество отзывов\n",
    "    'manufacturer',  # производитель\n",
    "    'medium_price',  # средняя цена\n",
    "    'min_price',  # минимальная цена\n",
    "    'max_price',  # максимальная цена\n",
    "    'category',  # категория\n",
    "    'color',  # цвет\n",
    "    'reseller',  # продавец\n",
    "    'has_discount',  # есть ли скидки?\n",
    "]"
   ]
  },
  {
   "cell_type": "code",
   "execution_count": 119,
   "id": "5518f092",
   "metadata": {
    "collapsed": false,
    "jupyter": {
     "outputs_hidden": false
    },
    "pycharm": {
     "name": "#%%\n"
    }
   },
   "outputs": [
    {
     "name": "stdout",
     "output_type": "stream",
     "text": [
      "Названия категориальных переменных:\n",
      "name, manufacturer, category, color, reseller, has_discount\n"
     ]
    }
   ],
   "source": [
    "print('Названия категориальных переменных:')\n",
    "print('name',\n",
    "      'manufacturer',\n",
    "      'category',\n",
    "      'color',\n",
    "      'reseller',\n",
    "      'has_discount', sep=', ')"
   ]
  },
  {
   "cell_type": "markdown",
   "id": "ea033900",
   "metadata": {
    "pycharm": {
     "name": "#%% md\n"
    }
   },
   "source": [
    "##### №2"
   ]
  },
  {
   "cell_type": "code",
   "execution_count": 120,
   "id": "825b2cab",
   "metadata": {
    "collapsed": false,
    "jupyter": {
     "outputs_hidden": false
    },
    "pycharm": {
     "name": "#%%\n"
    }
   },
   "outputs": [],
   "source": [
    "variables = [\n",
    "    'host_name',  # имя хозяина жилья\n",
    "    'city',  # город\n",
    "    'zipcode',  # индекс\n",
    "    'accommodates',  # количество гостей\n",
    "    'bathroom',  # количество ванных комнат\n",
    "    'bedrooms',  # количество спальных комнат\n",
    "    'beds',  # количество кроватей\n",
    "    'price',  # цена\n",
    "]"
   ]
  },
  {
   "cell_type": "code",
   "execution_count": 121,
   "id": "952955bb",
   "metadata": {
    "collapsed": false,
    "jupyter": {
     "outputs_hidden": false
    },
    "pycharm": {
     "name": "#%%\n"
    }
   },
   "outputs": [
    {
     "name": "stdout",
     "output_type": "stream",
     "text": [
      "Названия количественных переменных:\n",
      "accommodates, bathroom, bedrooms, beds, price\n"
     ]
    }
   ],
   "source": [
    "print('Названия количественных переменных:')\n",
    "print('accommodates',\n",
    "      'bathroom',\n",
    "      'bedrooms',\n",
    "      'beds',\n",
    "      'price', sep=', ')"
   ]
  },
  {
   "cell_type": "markdown",
   "id": "411eb12c",
   "metadata": {
    "pycharm": {
     "name": "#%% md\n"
    }
   },
   "source": [
    "##### №3"
   ]
  },
  {
   "cell_type": "code",
   "execution_count": 122,
   "id": "9d9336bf",
   "metadata": {
    "collapsed": false,
    "jupyter": {
     "outputs_hidden": false
    },
    "pycharm": {
     "name": "#%%\n"
    }
   },
   "outputs": [],
   "source": [
    "variables = [\n",
    "    'user_id',  # id пользователя\n",
    "    'news_type',  # тип новостного сообщения\n",
    "    'event',  # вид события: клик, показ\n",
    "    'tag',  # тема новостного сообщения\n",
    "]"
   ]
  },
  {
   "cell_type": "code",
   "execution_count": 123,
   "id": "d264683e",
   "metadata": {
    "collapsed": false,
    "jupyter": {
     "outputs_hidden": false
    },
    "pycharm": {
     "name": "#%%\n"
    }
   },
   "outputs": [
    {
     "name": "stdout",
     "output_type": "stream",
     "text": [
      "Названия категориальных переменных:\n",
      "user_id, news_type, event, tag\n"
     ]
    }
   ],
   "source": [
    "print('Названия категориальных переменных:')\n",
    "print('user_id',\n",
    "      'news_type',\n",
    "      'event',\n",
    "      'tag', sep=', ')"
   ]
  },
  {
   "cell_type": "markdown",
   "id": "8c14e6cb",
   "metadata": {
    "pycharm": {
     "name": "#%% md\n"
    }
   },
   "source": [
    "##### №4"
   ]
  },
  {
   "cell_type": "code",
   "execution_count": 124,
   "id": "ebfc2f76",
   "metadata": {
    "collapsed": false,
    "jupyter": {
     "outputs_hidden": false
    },
    "pycharm": {
     "name": "#%%\n"
    }
   },
   "outputs": [],
   "source": [
    "variables = [\n",
    "    'project_id',  # id проекта\n",
    "    'category',  # категория проекта\n",
    "    'goal',  # сколько денег хотят собрать\n",
    "    'pledged',  # сколько собрали\n",
    "    'state',  # статус проекта\n",
    "    'backers',  # количество человек, которые отправили деньги\n",
    "]"
   ]
  },
  {
   "cell_type": "code",
   "execution_count": 125,
   "id": "6b8044a8",
   "metadata": {
    "collapsed": false,
    "jupyter": {
     "outputs_hidden": false
    },
    "pycharm": {
     "name": "#%%\n"
    }
   },
   "outputs": [
    {
     "name": "stdout",
     "output_type": "stream",
     "text": [
      "Названия количественных переменных:\n",
      "goal, pledged, backers\n"
     ]
    }
   ],
   "source": [
    "print('Названия количественных переменных:')\n",
    "print('goal',\n",
    "      'pledged',\n",
    "      'backers', sep=', ')"
   ]
  },
  {
   "cell_type": "markdown",
   "id": "dd7efef7",
   "metadata": {
    "pycharm": {
     "name": "#%% md\n"
    }
   },
   "source": [
    "#### Работа с пропусками в категориальных переменных"
   ]
  },
  {
   "cell_type": "code",
   "execution_count": 128,
   "id": "d4ff48e5",
   "metadata": {
    "collapsed": false,
    "jupyter": {
     "outputs_hidden": false
    },
    "pycharm": {
     "name": "#%%\n"
    }
   },
   "outputs": [
    {
     "name": "stdout",
     "output_type": "stream",
     "text": [
      "source\n",
      "None         1674\n",
      "context     52032\n",
      "email       12279\n",
      "other      133834\n",
      "undef         181\n",
      "Name: purchase, dtype: int64\n"
     ]
    }
   ],
   "source": [
    "print(logs.groupby('source')['purchase'].count())"
   ]
  },
  {
   "cell_type": "code",
   "execution_count": 130,
   "id": "1ffa172f",
   "metadata": {
    "collapsed": false,
    "jupyter": {
     "outputs_hidden": false
    },
    "pycharm": {
     "name": "#%%\n"
    }
   },
   "outputs": [
    {
     "name": "stdout",
     "output_type": "stream",
     "text": [
      "source\n",
      "None        108\n",
      "context    3029\n",
      "email       913\n",
      "other      8041\n",
      "undef        12\n",
      "Name: purchase, dtype: int64\n"
     ]
    }
   ],
   "source": [
    "print(purchase)"
   ]
  },
  {
   "cell_type": "code",
   "execution_count": 132,
   "id": "0fd3e91c",
   "metadata": {
    "collapsed": false,
    "jupyter": {
     "outputs_hidden": false
    },
    "pycharm": {
     "name": "#%%\n"
    }
   },
   "outputs": [
    {
     "name": "stdout",
     "output_type": "stream",
     "text": [
      "        purchase      \n",
      "           count   sum\n",
      "source                \n",
      "None        1674   108\n",
      "context    52032  3029\n",
      "email      12279   913\n",
      "other     133834  8041\n",
      "undef        181    12\n"
     ]
    }
   ],
   "source": [
    "logs_grouped = logs.groupby('source').agg({'purchase': ['count', 'sum']})\n",
    "\n",
    "print(logs_grouped)"
   ]
  },
  {
   "cell_type": "code",
   "execution_count": 133,
   "id": "ae0374a9",
   "metadata": {
    "collapsed": false,
    "jupyter": {
     "outputs_hidden": false
    },
    "pycharm": {
     "name": "#%%\n"
    }
   },
   "outputs": [
    {
     "data": {
      "text/plain": [
       "source\n",
       "None        108\n",
       "context    3029\n",
       "email       913\n",
       "other      8041\n",
       "undef        12\n",
       "Name: sum, dtype: int64"
      ]
     },
     "execution_count": 133,
     "metadata": {},
     "output_type": "execute_result"
    }
   ],
   "source": [
    "logs_grouped['purchase']['sum']"
   ]
  },
  {
   "cell_type": "markdown",
   "id": "2180eee7",
   "metadata": {
    "pycharm": {
     "name": "#%% md\n"
    }
   },
   "source": [
    "##### №1"
   ]
  },
  {
   "cell_type": "code",
   "execution_count": 137,
   "id": "c12f0768",
   "metadata": {
    "collapsed": false,
    "jupyter": {
     "outputs_hidden": false
    },
    "pycharm": {
     "name": "#%%\n"
    }
   },
   "outputs": [
    {
     "name": "stdout",
     "output_type": "stream",
     "text": [
      "      user_id   source       email  purchase\n",
      "0  7141786820    other                     0\n",
      "1  5644686960    email  c129aa540a         0\n",
      "2  1914055396  context                     0\n",
      "3  4099355752    other                     0\n",
      "4  6032477554  context                     1\n"
     ]
    }
   ],
   "source": [
    "logs['email'] = logs['email'].fillna('')\n",
    "\n",
    "print(logs.head())"
   ]
  },
  {
   "cell_type": "markdown",
   "id": "4cc84c51",
   "metadata": {
    "pycharm": {
     "name": "#%% md\n"
    }
   },
   "source": [
    "##### №2"
   ]
  },
  {
   "cell_type": "code",
   "execution_count": 146,
   "id": "abaf94d4",
   "metadata": {
    "collapsed": false,
    "jupyter": {
     "outputs_hidden": false
    },
    "pycharm": {
     "name": "#%%\n"
    }
   },
   "outputs": [
    {
     "data": {
      "text/html": [
       "<div>\n",
       "<style scoped>\n",
       "    .dataframe tbody tr th:only-of-type {\n",
       "        vertical-align: middle;\n",
       "    }\n",
       "\n",
       "    .dataframe tbody tr th {\n",
       "        vertical-align: top;\n",
       "    }\n",
       "\n",
       "    .dataframe thead th {\n",
       "        text-align: right;\n",
       "    }\n",
       "</style>\n",
       "<table border=\"1\" class=\"dataframe\">\n",
       "  <thead>\n",
       "    <tr style=\"text-align: right;\">\n",
       "      <th></th>\n",
       "      <th>user_id</th>\n",
       "      <th>source</th>\n",
       "      <th>email</th>\n",
       "      <th>purchase</th>\n",
       "    </tr>\n",
       "  </thead>\n",
       "  <tbody>\n",
       "  </tbody>\n",
       "</table>\n",
       "</div>"
      ],
      "text/plain": [
       "Empty DataFrame\n",
       "Columns: [user_id, source, email, purchase]\n",
       "Index: []"
      ]
     },
     "execution_count": 146,
     "metadata": {},
     "output_type": "execute_result"
    }
   ],
   "source": [
    "logs.loc[(logs['source'] == 'None') & (logs['email'] == '')]"
   ]
  },
  {
   "cell_type": "markdown",
   "id": "5f37cfa6",
   "metadata": {
    "pycharm": {
     "name": "#%% md\n"
    }
   },
   "source": [
    "##### №3"
   ]
  },
  {
   "cell_type": "code",
   "execution_count": 149,
   "id": "233c38a0",
   "metadata": {
    "collapsed": false,
    "jupyter": {
     "outputs_hidden": false
    },
    "pycharm": {
     "name": "#%%\n"
    }
   },
   "outputs": [
    {
     "data": {
      "text/plain": [
       "other      133834\n",
       "context     52032\n",
       "email       13953\n",
       "undef         181\n",
       "Name: source, dtype: int64"
      ]
     },
     "execution_count": 149,
     "metadata": {},
     "output_type": "execute_result"
    }
   ],
   "source": [
    "logs.loc[(logs['source'] == 'None'), 'source'] = 'email'\n",
    "\n",
    "logs['source'].value_counts()"
   ]
  },
  {
   "cell_type": "markdown",
   "id": "0d9b05c6",
   "metadata": {
    "pycharm": {
     "name": "#%% md\n"
    }
   },
   "source": [
    "##### №4"
   ]
  },
  {
   "cell_type": "code",
   "execution_count": 150,
   "id": "d581695e",
   "metadata": {
    "collapsed": false,
    "jupyter": {
     "outputs_hidden": false
    },
    "pycharm": {
     "name": "#%%\n"
    }
   },
   "outputs": [
    {
     "name": "stdout",
     "output_type": "stream",
     "text": [
      "        purchase      \n",
      "           count   sum\n",
      "source                \n",
      "context    52032  3029\n",
      "email      13953  1021\n",
      "other     133834  8041\n",
      "undef        181    12\n"
     ]
    }
   ],
   "source": [
    "logs_grouped = logs.groupby('source').agg({'purchase': ['count', 'sum']})\n",
    "\n",
    "print(logs_grouped)"
   ]
  },
  {
   "cell_type": "markdown",
   "id": "7d5faa52",
   "metadata": {
    "pycharm": {
     "name": "#%% md\n"
    }
   },
   "source": [
    "##### №5"
   ]
  },
  {
   "cell_type": "code",
   "execution_count": 151,
   "id": "b10642b3",
   "metadata": {
    "collapsed": false,
    "jupyter": {
     "outputs_hidden": false
    },
    "pycharm": {
     "name": "#%%\n"
    }
   },
   "outputs": [
    {
     "name": "stdout",
     "output_type": "stream",
     "text": [
      "        purchase       conversion\n",
      "           count   sum           \n",
      "source                           \n",
      "context    52032  3029   0.058214\n",
      "email      13953  1021   0.073174\n",
      "other     133834  8041   0.060082\n",
      "undef        181    12   0.066298\n"
     ]
    }
   ],
   "source": [
    "logs_grouped['conversion'] = logs_grouped['purchase']['sum'] / logs_grouped['purchase']['count']\n",
    "\n",
    "print(logs_grouped)"
   ]
  },
  {
   "cell_type": "markdown",
   "id": "2c3967d1",
   "metadata": {
    "pycharm": {
     "name": "#%% md\n"
    }
   },
   "source": [
    "##### №6"
   ]
  },
  {
   "cell_type": "code",
   "execution_count": 152,
   "id": "0674b33b",
   "metadata": {
    "collapsed": false,
    "jupyter": {
     "outputs_hidden": false
    },
    "pycharm": {
     "name": "#%%\n"
    }
   },
   "outputs": [
    {
     "name": "stdout",
     "output_type": "stream",
     "text": [
      "        purchase       conversion\n",
      "           count   sum           \n",
      "source                           \n",
      "context    52032  3029   0.058214\n",
      "email      13953  1021   0.073174\n",
      "other     134015  8053   0.060090\n"
     ]
    }
   ],
   "source": [
    "logs.loc[logs['source'] == 'undef', 'source'] = 'other'\n",
    "logs_grouped = logs.groupby('source').agg({'purchase': ['count', 'sum']})\n",
    "logs_grouped['conversion'] = logs_grouped['purchase']['sum'] / logs_grouped['purchase']['count']\n",
    "\n",
    "print(logs_grouped)"
   ]
  },
  {
   "cell_type": "markdown",
   "id": "8260cc96",
   "metadata": {
    "pycharm": {
     "name": "#%% md\n"
    }
   },
   "source": [
    "#### Работа с пропусками в количественных переменных"
   ]
  },
  {
   "cell_type": "code",
   "execution_count": 3,
   "id": "ecae678c",
   "metadata": {
    "collapsed": false,
    "jupyter": {
     "outputs_hidden": false
    },
    "pycharm": {
     "name": "#%%\n"
    }
   },
   "outputs": [
    {
     "name": "stdout",
     "output_type": "stream",
     "text": [
      "      user_id device_type   age    time\n",
      "0  7141786820     desktop  33.0  2127.0\n",
      "1  5644686960      mobile  30.0    35.0\n",
      "2  1914055396     desktop  25.0     NaN\n",
      "3  4099355752     desktop  25.0  2123.0\n",
      "4  6032477554     desktop  27.0    59.0\n",
      "5  5872473344      mobile  27.0     NaN\n",
      "6  7977025176      mobile   NaN     NaN\n",
      "7  3512872755     desktop  40.0    65.0\n",
      "8  1827368713     desktop  37.0     NaN\n",
      "9  8688870165     desktop  36.0  2124.0\n"
     ]
    }
   ],
   "source": [
    "metrica = pd.read_csv('./datasets/metrica_data.csv')\n",
    "\n",
    "print(metrica.head(10))"
   ]
  },
  {
   "cell_type": "markdown",
   "id": "2598a102",
   "metadata": {
    "pycharm": {
     "name": "#%% md\n"
    }
   },
   "source": [
    "##### №1"
   ]
  },
  {
   "cell_type": "code",
   "execution_count": 5,
   "id": "96c124e1",
   "metadata": {
    "collapsed": false,
    "jupyter": {
     "outputs_hidden": false
    },
    "pycharm": {
     "name": "#%%\n"
    }
   },
   "outputs": [
    {
     "name": "stdout",
     "output_type": "stream",
     "text": [
      "32.48966336969903\n"
     ]
    }
   ],
   "source": [
    "age_avg = metrica['age'].mean()\n",
    "\n",
    "print(age_avg)"
   ]
  },
  {
   "cell_type": "markdown",
   "id": "2d756de4-35f3-4f6c-915b-ed5b6e48b6a8",
   "metadata": {},
   "source": [
    "##### №2"
   ]
  },
  {
   "cell_type": "code",
   "execution_count": 7,
   "id": "fc909d69-7e85-43ae-ad17-0d078046b4f3",
   "metadata": {},
   "outputs": [
    {
     "name": "stdout",
     "output_type": "stream",
     "text": [
      "      user_id device_type        age    time\n",
      "0  7141786820     desktop  33.000000  2127.0\n",
      "1  5644686960      mobile  30.000000    35.0\n",
      "2  1914055396     desktop  25.000000     NaN\n",
      "3  4099355752     desktop  25.000000  2123.0\n",
      "4  6032477554     desktop  27.000000    59.0\n",
      "5  5872473344      mobile  27.000000     NaN\n",
      "6  7977025176      mobile  32.489663     NaN\n",
      "7  3512872755     desktop  40.000000    65.0\n",
      "8  1827368713     desktop  37.000000     NaN\n",
      "9  8688870165     desktop  36.000000  2124.0\n"
     ]
    }
   ],
   "source": [
    "metrica['age'] = metrica['age'].fillna(age_avg)\n",
    "\n",
    "print(metrica.head(10))"
   ]
  },
  {
   "cell_type": "markdown",
   "id": "424c85ba-27fa-4adc-a43b-ea013796e4a0",
   "metadata": {},
   "source": [
    "##### №3"
   ]
  },
  {
   "cell_type": "code",
   "execution_count": 8,
   "id": "a576240b-ac73-4e46-89ee-c43ed1a0c7a0",
   "metadata": {},
   "outputs": [
    {
     "name": "stdout",
     "output_type": "stream",
     "text": [
      "1430.1294506106535\n"
     ]
    }
   ],
   "source": [
    "time_avg = metrica['time'].mean()\n",
    "\n",
    "print(time_avg)"
   ]
  },
  {
   "cell_type": "markdown",
   "id": "b252077b-0b68-47de-9e35-3c6f05af1107",
   "metadata": {},
   "source": [
    "##### №4"
   ]
  },
  {
   "cell_type": "code",
   "execution_count": 9,
   "id": "88a4bf96-aa51-4fa5-b1c1-876f388df500",
   "metadata": {},
   "outputs": [
    {
     "name": "stdout",
     "output_type": "stream",
     "text": [
      "      user_id device_type   age    time\n",
      "0  7141786820     desktop  33.0  2127.0\n",
      "2  1914055396     desktop  25.0     NaN\n",
      "3  4099355752     desktop  25.0  2123.0\n",
      "4  6032477554     desktop  27.0    59.0\n",
      "7  3512872755     desktop  40.0    65.0\n"
     ]
    }
   ],
   "source": [
    "desktop_data = metrica.loc[metrica['device_type'] == 'desktop']\n",
    "\n",
    "print(desktop_data.head())"
   ]
  },
  {
   "cell_type": "markdown",
   "id": "1de1917c-c2cf-40df-81ab-33fe3799ebde",
   "metadata": {},
   "source": [
    "##### №5"
   ]
  },
  {
   "cell_type": "code",
   "execution_count": 10,
   "id": "f3ab0b78-a53d-4f4c-9d44-3f7863bffa41",
   "metadata": {},
   "outputs": [
    {
     "name": "stdout",
     "output_type": "stream",
     "text": [
      "1741.8747158537378\n"
     ]
    }
   ],
   "source": [
    "desktop_data_time_avg = desktop_data['time'].mean()\n",
    "\n",
    "print(desktop_data_time_avg)"
   ]
  },
  {
   "cell_type": "markdown",
   "id": "6515ddca-098e-4cfc-80c3-aec3a2cbf811",
   "metadata": {},
   "source": [
    "##### №6"
   ]
  },
  {
   "cell_type": "code",
   "execution_count": 11,
   "id": "0344a649-2b66-4dd3-b40e-0ac76569b742",
   "metadata": {},
   "outputs": [
    {
     "name": "stdout",
     "output_type": "stream",
     "text": [
      "       user_id device_type        age  time\n",
      "1   5644686960      mobile  30.000000  35.0\n",
      "5   5872473344      mobile  27.000000   NaN\n",
      "6   7977025176      mobile  32.489663   NaN\n",
      "10  7172802697      mobile  30.000000   NaN\n",
      "14  9312844109      mobile  32.489663  40.0\n"
     ]
    }
   ],
   "source": [
    "mobile_data = metrica.loc[metrica['device_type'] == 'mobile']\n",
    "\n",
    "print(mobile_data.head())"
   ]
  },
  {
   "cell_type": "markdown",
   "id": "bc8c1173-0c99-465e-899b-be583005a6b6",
   "metadata": {},
   "source": [
    "##### №7"
   ]
  },
  {
   "cell_type": "code",
   "execution_count": 12,
   "id": "de2c2003-075e-47e2-ad8b-0668498af9cb",
   "metadata": {},
   "outputs": [
    {
     "name": "stdout",
     "output_type": "stream",
     "text": [
      "41.15691239238949\n"
     ]
    }
   ],
   "source": [
    "mobile_data_time_avg = mobile_data['time'].mean()\n",
    "\n",
    "print(mobile_data_time_avg)"
   ]
  },
  {
   "cell_type": "code",
   "execution_count": 18,
   "id": "c704c1e3-4cee-4bcd-85a6-bfb810161ab6",
   "metadata": {},
   "outputs": [
    {
     "name": "stdout",
     "output_type": "stream",
     "text": [
      "      user_id device_type        age         time\n",
      "0  7141786820     desktop  33.000000  2127.000000\n",
      "1  5644686960      mobile  30.000000    35.000000\n",
      "2  1914055396     desktop  25.000000  1741.874716\n",
      "3  4099355752     desktop  25.000000  2123.000000\n",
      "4  6032477554     desktop  27.000000    59.000000\n",
      "5  5872473344      mobile  27.000000    41.156912\n",
      "6  7977025176      mobile  32.489663    41.156912\n",
      "7  3512872755     desktop  40.000000    65.000000\n",
      "8  1827368713     desktop  37.000000  1741.874716\n",
      "9  8688870165     desktop  36.000000  2124.000000\n"
     ]
    }
   ],
   "source": [
    "metrica.loc[metrica['device_type'] == 'desktop', 'time'] = \\\n",
    "    metrica.loc[metrica['device_type'] == 'desktop', 'time'].fillna(desktop_data_time_avg)\n",
    "metrica.loc[metrica['device_type'] == 'mobile', 'time'] = \\\n",
    "    metrica.loc[metrica['device_type'] == 'mobile', 'time'].fillna(mobile_data_time_avg)\n",
    "\n",
    "print(metrica.head(10))"
   ]
  },
  {
   "cell_type": "markdown",
   "id": "edad5015-9532-4601-a1ab-aba47fe5c25b",
   "metadata": {},
   "source": [
    "### Как читать файлы из Excel"
   ]
  },
  {
   "cell_type": "markdown",
   "id": "4ad00d16-5bf2-4715-b1b1-5bcefe4c199f",
   "metadata": {},
   "source": [
    "##### №1"
   ]
  },
  {
   "cell_type": "code",
   "execution_count": 7,
   "id": "c1df7b18-1685-4616-87db-39304e84c003",
   "metadata": {},
   "outputs": [
    {
     "name": "stdout",
     "output_type": "stream",
     "text": [
      "  subcategory_id  source         visits\n",
      "0     cf2e61c7af  direct  501165.668858\n",
      "1     0cd903d1cc  direct  126342.359505\n",
      "2     ef35bc88a7  direct   95626.321402\n",
      "3     6ff9f4014c  direct   75680.653002\n",
      "4     72bc238e4d  direct   64435.934651\n"
     ]
    }
   ],
   "source": [
    "traffic_data = pd.read_excel('./datasets/seo_data.xlsx', sheet_name='traffic_data')\n",
    "\n",
    "print(traffic_data.head())"
   ]
  },
  {
   "cell_type": "code",
   "execution_count": 54,
   "id": "cf9cf3d1-e111-4dc3-9516-c1b67a2b6911",
   "metadata": {},
   "outputs": [
    {
     "name": "stdout",
     "output_type": "stream",
     "text": [
      "['subcategory_id' 'source' 'visits']\n"
     ]
    }
   ],
   "source": [
    "print(traffic_data.columns.values)"
   ]
  },
  {
   "cell_type": "markdown",
   "id": "75c96870-63dc-4c1f-917a-27101bd3bd12",
   "metadata": {},
   "source": [
    "##### №2"
   ]
  },
  {
   "cell_type": "code",
   "execution_count": 55,
   "id": "4e530dd4-45ac-4754-9b24-3153d0826211",
   "metadata": {},
   "outputs": [
    {
     "name": "stdout",
     "output_type": "stream",
     "text": [
      "['direct' 'organic']\n"
     ]
    }
   ],
   "source": [
    "print(traffic_data['source'].unique())"
   ]
  },
  {
   "cell_type": "markdown",
   "id": "8bef057c-a06e-4a53-b3cc-9d255a36c44e",
   "metadata": {},
   "source": [
    "##### №3"
   ]
  },
  {
   "cell_type": "code",
   "execution_count": 9,
   "id": "8210230c-e50b-4abc-98b2-aa6527bbed0d",
   "metadata": {},
   "outputs": [
    {
     "name": "stdout",
     "output_type": "stream",
     "text": [
      "  subcategory_id                subcategory_name category_id\n",
      "0     cf2e61c7af              Мобильные телефоны  09f279a643\n",
      "1     0cd903d1cc                        Ноутбуки  3509869a61\n",
      "2     ef35bc88a7                      Телевизоры  09f279a643\n",
      "3     6ff9f4014c                        Планшеты  3509869a61\n",
      "4     72bc238e4d  Наушники и Bluetooth-гарнитуры  09f279a643\n"
     ]
    }
   ],
   "source": [
    "subcategory_dict = pd.read_excel('./datasets/seo_data.xlsx', sheet_name='subcategory_ids')\n",
    "\n",
    "print(subcategory_dict.head())"
   ]
  },
  {
   "cell_type": "markdown",
   "id": "2f1ec902-448c-4604-aa63-1244545ab9b1",
   "metadata": {},
   "source": [
    "##### №4"
   ]
  },
  {
   "cell_type": "code",
   "execution_count": 12,
   "id": "ea61163c-a0f6-494a-9714-442606fae64e",
   "metadata": {},
   "outputs": [
    {
     "name": "stdout",
     "output_type": "stream",
     "text": [
      "  category_id               category_name\n",
      "0  09f279a643                 Электроника\n",
      "1  3509869a61        Компьютерная техника\n",
      "2  65922fa39c                        Авто\n",
      "3  6074ad29ac  Одежда, обувь и аксессуары\n",
      "4  10a493e03b         Товары для здоровья\n"
     ]
    }
   ],
   "source": [
    "category_dict = pd.read_excel('./datasets/seo_data.xlsx', sheet_name='category_ids')\n",
    "\n",
    "print(category_dict.head())"
   ]
  },
  {
   "cell_type": "markdown",
   "id": "4bd8a70d-9f21-4ed4-8983-fd995ee5054d",
   "metadata": {},
   "source": [
    "### Такие неидеальные данные"
   ]
  },
  {
   "cell_type": "code",
   "execution_count": 58,
   "id": "c8e39555-598c-4caf-b94e-37f4608a480c",
   "metadata": {},
   "outputs": [
    {
     "name": "stdout",
     "output_type": "stream",
     "text": [
      "                                            subcategory_id\n",
      "source                                                    \n",
      "direct   cf2e61c7af0cd903d1ccef35bc88a76ff9f4014c72bc23...\n",
      "organic  cf2e61c7af0cd903d1ccef35bc88a76ff9f4014c72bc23...\n"
     ]
    },
    {
     "name": "stderr",
     "output_type": "stream",
     "text": [
      "C:\\Users\\goroh\\AppData\\Local\\Temp\\ipykernel_16372\\2964606069.py:1: FutureWarning: Dropping invalid columns in DataFrameGroupBy.add is deprecated. In a future version, a TypeError will be raised. Before calling .add, select only columns which should be valid for the function.\n",
      "  print(traffic_data.groupby('source').sum())\n"
     ]
    }
   ],
   "source": [
    "print(traffic_data.groupby('source').sum())"
   ]
  },
  {
   "cell_type": "markdown",
   "id": "7e97cbd9-db7d-486d-a4a9-a31a07d5bd5c",
   "metadata": {},
   "source": [
    "Сумма визитов не считается, поскольку не выбраны колонки, к которым необходимо применять функцию после groupby(). Функция sum() \"пытается посчитать\" сумму по каждому столбцу, при этом суммировать можно только числовые данные, а серия visits имеет тип object."
   ]
  },
  {
   "cell_type": "code",
   "execution_count": 59,
   "id": "e8a2bd9f-37bc-4c26-8f84-54a996b3c57c",
   "metadata": {},
   "outputs": [
    {
     "name": "stdout",
     "output_type": "stream",
     "text": [
      "<class 'pandas.core.frame.DataFrame'>\n",
      "RangeIndex: 1930 entries, 0 to 1929\n",
      "Data columns (total 3 columns):\n",
      " #   Column          Non-Null Count  Dtype \n",
      "---  ------          --------------  ----- \n",
      " 0   subcategory_id  1930 non-null   object\n",
      " 1   source          1930 non-null   object\n",
      " 2   visits          1930 non-null   object\n",
      "dtypes: object(3)\n",
      "memory usage: 45.4+ KB\n"
     ]
    }
   ],
   "source": [
    "traffic_data.info()"
   ]
  },
  {
   "cell_type": "markdown",
   "id": "59b805d4-55d2-4b8a-bcac-586604a13d01",
   "metadata": {},
   "source": [
    "### Перевод строковых значений в числа"
   ]
  },
  {
   "cell_type": "code",
   "execution_count": 60,
   "id": "7312eecd-beed-4989-98a2-425bd70413d6",
   "metadata": {},
   "outputs": [
    {
     "data": {
      "text/html": [
       "<div>\n",
       "<style scoped>\n",
       "    .dataframe tbody tr th:only-of-type {\n",
       "        vertical-align: middle;\n",
       "    }\n",
       "\n",
       "    .dataframe tbody tr th {\n",
       "        vertical-align: top;\n",
       "    }\n",
       "\n",
       "    .dataframe thead th {\n",
       "        text-align: right;\n",
       "    }\n",
       "</style>\n",
       "<table border=\"1\" class=\"dataframe\">\n",
       "  <thead>\n",
       "    <tr style=\"text-align: right;\">\n",
       "      <th></th>\n",
       "      <th>id</th>\n",
       "      <th>category</th>\n",
       "      <th>amount</th>\n",
       "    </tr>\n",
       "  </thead>\n",
       "  <tbody>\n",
       "    <tr>\n",
       "      <th>0</th>\n",
       "      <td>600748331392</td>\n",
       "      <td>C</td>\n",
       "      <td>17515.36</td>\n",
       "    </tr>\n",
       "    <tr>\n",
       "      <th>1</th>\n",
       "      <td>600748331404</td>\n",
       "      <td>B</td>\n",
       "      <td>10117.56</td>\n",
       "    </tr>\n",
       "    <tr>\n",
       "      <th>2</th>\n",
       "      <td>600748331412</td>\n",
       "      <td>B</td>\n",
       "      <td>18489.26</td>\n",
       "    </tr>\n",
       "    <tr>\n",
       "      <th>3</th>\n",
       "      <td>600748331430</td>\n",
       "      <td>B</td>\n",
       "      <td>6620.22</td>\n",
       "    </tr>\n",
       "    <tr>\n",
       "      <th>4</th>\n",
       "      <td>600748331447</td>\n",
       "      <td>C</td>\n",
       "      <td>7559.9</td>\n",
       "    </tr>\n",
       "  </tbody>\n",
       "</table>\n",
       "</div>"
      ],
      "text/plain": [
       "             id category    amount\n",
       "0  600748331392        C  17515.36\n",
       "1  600748331404        B  10117.56\n",
       "2  600748331412        B  18489.26\n",
       "3  600748331430        B   6620.22\n",
       "4  600748331447        C    7559.9"
      ]
     },
     "execution_count": 60,
     "metadata": {},
     "output_type": "execute_result"
    }
   ],
   "source": [
    "transactions = pd.read_excel('./datasets/ids.xlsx')\n",
    "\n",
    "transactions.head()"
   ]
  },
  {
   "cell_type": "code",
   "execution_count": 61,
   "id": "026a33ad-b990-4a57-9a92-5d76574ab091",
   "metadata": {},
   "outputs": [
    {
     "name": "stdout",
     "output_type": "stream",
     "text": [
      "<class 'pandas.core.frame.DataFrame'>\n",
      "RangeIndex: 49 entries, 0 to 48\n",
      "Data columns (total 3 columns):\n",
      " #   Column    Non-Null Count  Dtype \n",
      "---  ------    --------------  ----- \n",
      " 0   id        49 non-null     object\n",
      " 1   category  49 non-null     object\n",
      " 2   amount    49 non-null     object\n",
      "dtypes: object(3)\n",
      "memory usage: 1.3+ KB\n"
     ]
    }
   ],
   "source": [
    "transactions.info()"
   ]
  },
  {
   "cell_type": "markdown",
   "id": "3a3c6718-a06a-4b8b-8703-6a09619eb392",
   "metadata": {},
   "source": [
    "##### №1"
   ]
  },
  {
   "cell_type": "code",
   "execution_count": 62,
   "id": "dc0835e7-c230-4ba1-a50a-3233338c278c",
   "metadata": {},
   "outputs": [
    {
     "ename": "ValueError",
     "evalue": "Unable to parse string \"Null\" at position 48",
     "output_type": "error",
     "traceback": [
      "\u001b[1;31m---------------------------------------------------------------------------\u001b[0m",
      "\u001b[1;31mValueError\u001b[0m                                Traceback (most recent call last)",
      "File \u001b[1;32mD:\\Programs\\Python\\lib\\site-packages\\pandas\\_libs\\lib.pyx:2315\u001b[0m, in \u001b[0;36mpandas._libs.lib.maybe_convert_numeric\u001b[1;34m()\u001b[0m\n",
      "\u001b[1;31mValueError\u001b[0m: Unable to parse string \"Null\"",
      "\nDuring handling of the above exception, another exception occurred:\n",
      "\u001b[1;31mValueError\u001b[0m                                Traceback (most recent call last)",
      "Input \u001b[1;32mIn [62]\u001b[0m, in \u001b[0;36m<module>\u001b[1;34m\u001b[0m\n\u001b[1;32m----> 1\u001b[0m transactions[\u001b[38;5;124m'\u001b[39m\u001b[38;5;124mid\u001b[39m\u001b[38;5;124m'\u001b[39m] \u001b[38;5;241m=\u001b[39m \u001b[43mpd\u001b[49m\u001b[38;5;241;43m.\u001b[39;49m\u001b[43mto_numeric\u001b[49m\u001b[43m(\u001b[49m\u001b[43mtransactions\u001b[49m\u001b[43m[\u001b[49m\u001b[38;5;124;43m'\u001b[39;49m\u001b[38;5;124;43mid\u001b[39;49m\u001b[38;5;124;43m'\u001b[39;49m\u001b[43m]\u001b[49m\u001b[43m)\u001b[49m\n",
      "File \u001b[1;32mD:\\Programs\\Python\\lib\\site-packages\\pandas\\core\\tools\\numeric.py:184\u001b[0m, in \u001b[0;36mto_numeric\u001b[1;34m(arg, errors, downcast)\u001b[0m\n\u001b[0;32m    182\u001b[0m coerce_numeric \u001b[38;5;241m=\u001b[39m errors \u001b[38;5;129;01mnot\u001b[39;00m \u001b[38;5;129;01min\u001b[39;00m (\u001b[38;5;124m\"\u001b[39m\u001b[38;5;124mignore\u001b[39m\u001b[38;5;124m\"\u001b[39m, \u001b[38;5;124m\"\u001b[39m\u001b[38;5;124mraise\u001b[39m\u001b[38;5;124m\"\u001b[39m)\n\u001b[0;32m    183\u001b[0m \u001b[38;5;28;01mtry\u001b[39;00m:\n\u001b[1;32m--> 184\u001b[0m     values, _ \u001b[38;5;241m=\u001b[39m \u001b[43mlib\u001b[49m\u001b[38;5;241;43m.\u001b[39;49m\u001b[43mmaybe_convert_numeric\u001b[49m\u001b[43m(\u001b[49m\n\u001b[0;32m    185\u001b[0m \u001b[43m        \u001b[49m\u001b[43mvalues\u001b[49m\u001b[43m,\u001b[49m\u001b[43m \u001b[49m\u001b[38;5;28;43mset\u001b[39;49m\u001b[43m(\u001b[49m\u001b[43m)\u001b[49m\u001b[43m,\u001b[49m\u001b[43m \u001b[49m\u001b[43mcoerce_numeric\u001b[49m\u001b[38;5;241;43m=\u001b[39;49m\u001b[43mcoerce_numeric\u001b[49m\n\u001b[0;32m    186\u001b[0m \u001b[43m    \u001b[49m\u001b[43m)\u001b[49m\n\u001b[0;32m    187\u001b[0m \u001b[38;5;28;01mexcept\u001b[39;00m (\u001b[38;5;167;01mValueError\u001b[39;00m, \u001b[38;5;167;01mTypeError\u001b[39;00m):\n\u001b[0;32m    188\u001b[0m     \u001b[38;5;28;01mif\u001b[39;00m errors \u001b[38;5;241m==\u001b[39m \u001b[38;5;124m\"\u001b[39m\u001b[38;5;124mraise\u001b[39m\u001b[38;5;124m\"\u001b[39m:\n",
      "File \u001b[1;32mD:\\Programs\\Python\\lib\\site-packages\\pandas\\_libs\\lib.pyx:2357\u001b[0m, in \u001b[0;36mpandas._libs.lib.maybe_convert_numeric\u001b[1;34m()\u001b[0m\n",
      "\u001b[1;31mValueError\u001b[0m: Unable to parse string \"Null\" at position 48"
     ]
    }
   ],
   "source": [
    "transactions['id'] = pd.to_numeric(transactions['id'])"
   ]
  },
  {
   "cell_type": "markdown",
   "id": "72eb7665-759a-4c8b-a932-dee057866a40",
   "metadata": {},
   "source": [
    "##### №2"
   ]
  },
  {
   "cell_type": "code",
   "execution_count": 63,
   "id": "960992ee-8101-4824-854b-e349863b9215",
   "metadata": {},
   "outputs": [
    {
     "data": {
      "text/html": [
       "<div>\n",
       "<style scoped>\n",
       "    .dataframe tbody tr th:only-of-type {\n",
       "        vertical-align: middle;\n",
       "    }\n",
       "\n",
       "    .dataframe tbody tr th {\n",
       "        vertical-align: top;\n",
       "    }\n",
       "\n",
       "    .dataframe thead th {\n",
       "        text-align: right;\n",
       "    }\n",
       "</style>\n",
       "<table border=\"1\" class=\"dataframe\">\n",
       "  <thead>\n",
       "    <tr style=\"text-align: right;\">\n",
       "      <th></th>\n",
       "      <th>id</th>\n",
       "      <th>category</th>\n",
       "      <th>amount</th>\n",
       "    </tr>\n",
       "  </thead>\n",
       "  <tbody>\n",
       "    <tr>\n",
       "      <th>44</th>\n",
       "      <td>6.007483e+11</td>\n",
       "      <td>A</td>\n",
       "      <td>8958.23</td>\n",
       "    </tr>\n",
       "    <tr>\n",
       "      <th>45</th>\n",
       "      <td>6.007483e+11</td>\n",
       "      <td>C</td>\n",
       "      <td>12771.1</td>\n",
       "    </tr>\n",
       "    <tr>\n",
       "      <th>46</th>\n",
       "      <td>6.007483e+11</td>\n",
       "      <td>E</td>\n",
       "      <td>9630.56</td>\n",
       "    </tr>\n",
       "    <tr>\n",
       "      <th>47</th>\n",
       "      <td>6.007483e+11</td>\n",
       "      <td>Null</td>\n",
       "      <td>Null</td>\n",
       "    </tr>\n",
       "    <tr>\n",
       "      <th>48</th>\n",
       "      <td>NaN</td>\n",
       "      <td>A</td>\n",
       "      <td>14327.22</td>\n",
       "    </tr>\n",
       "  </tbody>\n",
       "</table>\n",
       "</div>"
      ],
      "text/plain": [
       "              id category    amount\n",
       "44  6.007483e+11        A   8958.23\n",
       "45  6.007483e+11        C   12771.1\n",
       "46  6.007483e+11        E   9630.56\n",
       "47  6.007483e+11     Null      Null\n",
       "48           NaN        A  14327.22"
      ]
     },
     "execution_count": 63,
     "metadata": {},
     "output_type": "execute_result"
    }
   ],
   "source": [
    "transactions['id'] = pd.to_numeric(transactions['id'], errors='coerce')\n",
    "\n",
    "transactions.tail()"
   ]
  },
  {
   "cell_type": "markdown",
   "id": "bd01d983-a6a5-4ce7-bff6-146f1b43331b",
   "metadata": {},
   "source": [
    "##### №3"
   ]
  },
  {
   "cell_type": "code",
   "execution_count": 64,
   "id": "e765953b-0b20-4598-9909-f1463da5a2ea",
   "metadata": {},
   "outputs": [
    {
     "name": "stdout",
     "output_type": "stream",
     "text": [
      "<class 'pandas.core.frame.DataFrame'>\n",
      "RangeIndex: 49 entries, 0 to 48\n",
      "Data columns (total 3 columns):\n",
      " #   Column    Non-Null Count  Dtype  \n",
      "---  ------    --------------  -----  \n",
      " 0   id        48 non-null     float64\n",
      " 1   category  49 non-null     object \n",
      " 2   amount    49 non-null     object \n",
      "dtypes: float64(1), object(2)\n",
      "memory usage: 1.3+ KB\n"
     ]
    }
   ],
   "source": [
    "transactions.info()"
   ]
  },
  {
   "cell_type": "markdown",
   "id": "73524670-4f1e-47e1-bbbe-7c4a9851b562",
   "metadata": {},
   "source": [
    "##### №4"
   ]
  },
  {
   "cell_type": "code",
   "execution_count": 65,
   "id": "117dcb47-926b-443d-bf2b-ec7f66cab1f2",
   "metadata": {},
   "outputs": [
    {
     "name": "stdout",
     "output_type": "stream",
     "text": [
      "<class 'pandas.core.frame.DataFrame'>\n",
      "RangeIndex: 49 entries, 0 to 48\n",
      "Data columns (total 3 columns):\n",
      " #   Column    Non-Null Count  Dtype  \n",
      "---  ------    --------------  -----  \n",
      " 0   id        48 non-null     float64\n",
      " 1   category  49 non-null     object \n",
      " 2   amount    45 non-null     float64\n",
      "dtypes: float64(2), object(1)\n",
      "memory usage: 1.3+ KB\n"
     ]
    }
   ],
   "source": [
    "transactions['amount'] = pd.to_numeric(transactions['amount'], errors='coerce')\n",
    "\n",
    "transactions.info()"
   ]
  },
  {
   "cell_type": "markdown",
   "id": "cf8c2af4-c5ff-4261-9f5a-813ceadbe799",
   "metadata": {},
   "source": [
    "##### №5"
   ]
  },
  {
   "cell_type": "code",
   "execution_count": 66,
   "id": "ffba6991-6460-4805-bf35-e1c821d204c8",
   "metadata": {},
   "outputs": [
    {
     "name": "stdout",
     "output_type": "stream",
     "text": [
      "596107.1\n"
     ]
    }
   ],
   "source": [
    "print(transactions['amount'].sum())"
   ]
  },
  {
   "cell_type": "markdown",
   "id": "1f3298d1-743a-47ec-9541-77a857db92d8",
   "metadata": {},
   "source": [
    "##### №6"
   ]
  },
  {
   "cell_type": "code",
   "execution_count": 67,
   "id": "44549328-f43c-4b48-96f3-e00140833d73",
   "metadata": {},
   "outputs": [
    {
     "name": "stdout",
     "output_type": "stream",
     "text": [
      "category\n",
      "A       133988.50\n",
      "B       168617.89\n",
      "C       173332.50\n",
      "D        62630.82\n",
      "E        57537.39\n",
      "Null         0.00\n",
      "Name: amount, dtype: float64\n"
     ]
    }
   ],
   "source": [
    "print(transactions.groupby('category')['amount'].sum())"
   ]
  },
  {
   "cell_type": "markdown",
   "id": "f8e3fa25-301b-4596-8940-6e9abdb45e77",
   "metadata": {},
   "source": [
    "##### №7"
   ]
  },
  {
   "cell_type": "code",
   "execution_count": 68,
   "id": "609dd695-1c7f-4691-9ba2-c14335e09f76",
   "metadata": {},
   "outputs": [
    {
     "ename": "ValueError",
     "evalue": "Unable to parse string \"\"2369468\"\" at position 964",
     "output_type": "error",
     "traceback": [
      "\u001b[1;31m---------------------------------------------------------------------------\u001b[0m",
      "\u001b[1;31mValueError\u001b[0m                                Traceback (most recent call last)",
      "File \u001b[1;32mD:\\Programs\\Python\\lib\\site-packages\\pandas\\_libs\\lib.pyx:2315\u001b[0m, in \u001b[0;36mpandas._libs.lib.maybe_convert_numeric\u001b[1;34m()\u001b[0m\n",
      "\u001b[1;31mValueError\u001b[0m: Unable to parse string \"\"2369468\"\"",
      "\nDuring handling of the above exception, another exception occurred:\n",
      "\u001b[1;31mValueError\u001b[0m                                Traceback (most recent call last)",
      "Input \u001b[1;32mIn [68]\u001b[0m, in \u001b[0;36m<module>\u001b[1;34m\u001b[0m\n\u001b[1;32m----> 1\u001b[0m traffic_data[\u001b[38;5;124m'\u001b[39m\u001b[38;5;124mvisits\u001b[39m\u001b[38;5;124m'\u001b[39m] \u001b[38;5;241m=\u001b[39m \u001b[43mpd\u001b[49m\u001b[38;5;241;43m.\u001b[39;49m\u001b[43mto_numeric\u001b[49m\u001b[43m(\u001b[49m\u001b[43mtraffic_data\u001b[49m\u001b[43m[\u001b[49m\u001b[38;5;124;43m'\u001b[39;49m\u001b[38;5;124;43mvisits\u001b[39;49m\u001b[38;5;124;43m'\u001b[39;49m\u001b[43m]\u001b[49m\u001b[43m)\u001b[49m\n",
      "File \u001b[1;32mD:\\Programs\\Python\\lib\\site-packages\\pandas\\core\\tools\\numeric.py:184\u001b[0m, in \u001b[0;36mto_numeric\u001b[1;34m(arg, errors, downcast)\u001b[0m\n\u001b[0;32m    182\u001b[0m coerce_numeric \u001b[38;5;241m=\u001b[39m errors \u001b[38;5;129;01mnot\u001b[39;00m \u001b[38;5;129;01min\u001b[39;00m (\u001b[38;5;124m\"\u001b[39m\u001b[38;5;124mignore\u001b[39m\u001b[38;5;124m\"\u001b[39m, \u001b[38;5;124m\"\u001b[39m\u001b[38;5;124mraise\u001b[39m\u001b[38;5;124m\"\u001b[39m)\n\u001b[0;32m    183\u001b[0m \u001b[38;5;28;01mtry\u001b[39;00m:\n\u001b[1;32m--> 184\u001b[0m     values, _ \u001b[38;5;241m=\u001b[39m \u001b[43mlib\u001b[49m\u001b[38;5;241;43m.\u001b[39;49m\u001b[43mmaybe_convert_numeric\u001b[49m\u001b[43m(\u001b[49m\n\u001b[0;32m    185\u001b[0m \u001b[43m        \u001b[49m\u001b[43mvalues\u001b[49m\u001b[43m,\u001b[49m\u001b[43m \u001b[49m\u001b[38;5;28;43mset\u001b[39;49m\u001b[43m(\u001b[49m\u001b[43m)\u001b[49m\u001b[43m,\u001b[49m\u001b[43m \u001b[49m\u001b[43mcoerce_numeric\u001b[49m\u001b[38;5;241;43m=\u001b[39;49m\u001b[43mcoerce_numeric\u001b[49m\n\u001b[0;32m    186\u001b[0m \u001b[43m    \u001b[49m\u001b[43m)\u001b[49m\n\u001b[0;32m    187\u001b[0m \u001b[38;5;28;01mexcept\u001b[39;00m (\u001b[38;5;167;01mValueError\u001b[39;00m, \u001b[38;5;167;01mTypeError\u001b[39;00m):\n\u001b[0;32m    188\u001b[0m     \u001b[38;5;28;01mif\u001b[39;00m errors \u001b[38;5;241m==\u001b[39m \u001b[38;5;124m\"\u001b[39m\u001b[38;5;124mraise\u001b[39m\u001b[38;5;124m\"\u001b[39m:\n",
      "File \u001b[1;32mD:\\Programs\\Python\\lib\\site-packages\\pandas\\_libs\\lib.pyx:2357\u001b[0m, in \u001b[0;36mpandas._libs.lib.maybe_convert_numeric\u001b[1;34m()\u001b[0m\n",
      "\u001b[1;31mValueError\u001b[0m: Unable to parse string \"\"2369468\"\" at position 964"
     ]
    }
   ],
   "source": [
    "traffic_data['visits'] = pd.to_numeric(traffic_data['visits'])"
   ]
  },
  {
   "cell_type": "markdown",
   "id": "bafb706f-13a8-45fc-a0aa-420eddba2546",
   "metadata": {},
   "source": [
    "##### №8"
   ]
  },
  {
   "cell_type": "code",
   "execution_count": 69,
   "id": "da503fa6-e0c2-40c1-a9e2-b4287d1295f9",
   "metadata": {},
   "outputs": [
    {
     "data": {
      "text/plain": [
       "subcategory_id        total\n",
       "source               direct\n",
       "visits            \"2369468\"\n",
       "Name: 964, dtype: object"
      ]
     },
     "execution_count": 69,
     "metadata": {},
     "output_type": "execute_result"
    }
   ],
   "source": [
    "traffic_data.loc[964, ]"
   ]
  },
  {
   "cell_type": "markdown",
   "id": "fcdb2d2f-779e-4079-8fca-d03824d27a68",
   "metadata": {},
   "source": [
    "##### №9"
   ]
  },
  {
   "cell_type": "code",
   "execution_count": 70,
   "id": "d2bff121-59e1-45bb-87e9-95e2dbded51a",
   "metadata": {},
   "outputs": [
    {
     "name": "stdout",
     "output_type": "stream",
     "text": [
      "Количество строк: 1930\n"
     ]
    }
   ],
   "source": [
    "print('Количество строк:', len(traffic_data))"
   ]
  },
  {
   "cell_type": "markdown",
   "id": "80b77809-7bdd-44e8-8fbe-f5434ae80417",
   "metadata": {},
   "source": [
    "##### №10"
   ]
  },
  {
   "cell_type": "code",
   "execution_count": 71,
   "id": "ab3eb781-d220-4b7d-9e06-3b2076ae5cf9",
   "metadata": {},
   "outputs": [
    {
     "data": {
      "text/html": [
       "<div>\n",
       "<style scoped>\n",
       "    .dataframe tbody tr th:only-of-type {\n",
       "        vertical-align: middle;\n",
       "    }\n",
       "\n",
       "    .dataframe tbody tr th {\n",
       "        vertical-align: top;\n",
       "    }\n",
       "\n",
       "    .dataframe thead th {\n",
       "        text-align: right;\n",
       "    }\n",
       "</style>\n",
       "<table border=\"1\" class=\"dataframe\">\n",
       "  <thead>\n",
       "    <tr style=\"text-align: right;\">\n",
       "      <th></th>\n",
       "      <th>subcategory_id</th>\n",
       "      <th>source</th>\n",
       "      <th>visits</th>\n",
       "    </tr>\n",
       "  </thead>\n",
       "  <tbody>\n",
       "  </tbody>\n",
       "</table>\n",
       "</div>"
      ],
      "text/plain": [
       "Empty DataFrame\n",
       "Columns: [subcategory_id, source, visits]\n",
       "Index: []"
      ]
     },
     "execution_count": 71,
     "metadata": {},
     "output_type": "execute_result"
    }
   ],
   "source": [
    "traffic_data = traffic_data.loc[traffic_data['subcategory_id'] != 'total']\n",
    "\n",
    "traffic_data[traffic_data['subcategory_id'] == 'total']"
   ]
  },
  {
   "cell_type": "markdown",
   "id": "a97473f3-e3cb-4a3c-bcdf-55a51ca0793c",
   "metadata": {},
   "source": [
    "##### №11"
   ]
  },
  {
   "cell_type": "code",
   "execution_count": 73,
   "id": "8ffedb6f-e88c-457a-ba0e-ffa0fba23477",
   "metadata": {},
   "outputs": [
    {
     "name": "stdout",
     "output_type": "stream",
     "text": [
      "<class 'pandas.core.frame.DataFrame'>\n",
      "Int64Index: 1928 entries, 0 to 1928\n",
      "Data columns (total 3 columns):\n",
      " #   Column          Non-Null Count  Dtype \n",
      "---  ------          --------------  ----- \n",
      " 0   subcategory_id  1928 non-null   object\n",
      " 1   source          1928 non-null   object\n",
      " 2   visits          1928 non-null   int32 \n",
      "dtypes: int32(1), object(2)\n",
      "memory usage: 52.7+ KB\n"
     ]
    }
   ],
   "source": [
    "traffic_data['visits'] = pd.to_numeric(traffic_data['visits']).astype('int')\n",
    "\n",
    "traffic_data.info()"
   ]
  },
  {
   "cell_type": "markdown",
   "id": "0edd3dcc-40ee-4674-b3c9-5673b3aea2d7",
   "metadata": {},
   "source": [
    "##### №12"
   ]
  },
  {
   "cell_type": "code",
   "execution_count": 74,
   "id": "44cd48cb-6a65-46aa-8984-aa74810eef3a",
   "metadata": {},
   "outputs": [
    {
     "name": "stdout",
     "output_type": "stream",
     "text": [
      "source\n",
      "direct     964\n",
      "organic    964\n",
      "Name: visits, dtype: int64\n"
     ]
    }
   ],
   "source": [
    "print(traffic_data.groupby('source')['visits'].count())"
   ]
  },
  {
   "cell_type": "markdown",
   "id": "9ef00e09-adc9-4c93-98bc-28850584c6ea",
   "metadata": {
    "tags": []
   },
   "source": [
    "### Методы Pandas для работы с датой и временем"
   ]
  },
  {
   "cell_type": "markdown",
   "id": "1f274091-b04f-45be-970b-10f9ac294a51",
   "metadata": {},
   "source": [
    "##### №1"
   ]
  },
  {
   "cell_type": "code",
   "execution_count": 3,
   "id": "80983a19-d26f-413a-9b05-6d68fcdc6f29",
   "metadata": {},
   "outputs": [
    {
     "data": {
      "text/html": [
       "<div>\n",
       "<style scoped>\n",
       "    .dataframe tbody tr th:only-of-type {\n",
       "        vertical-align: middle;\n",
       "    }\n",
       "\n",
       "    .dataframe tbody tr th {\n",
       "        vertical-align: top;\n",
       "    }\n",
       "\n",
       "    .dataframe thead th {\n",
       "        text-align: right;\n",
       "    }\n",
       "</style>\n",
       "<table border=\"1\" class=\"dataframe\">\n",
       "  <thead>\n",
       "    <tr style=\"text-align: right;\">\n",
       "      <th></th>\n",
       "      <th>timestamp</th>\n",
       "      <th>level</th>\n",
       "      <th>page_id</th>\n",
       "    </tr>\n",
       "  </thead>\n",
       "  <tbody>\n",
       "    <tr>\n",
       "      <th>0</th>\n",
       "      <td>2019-02-04T13:22:34</td>\n",
       "      <td>1</td>\n",
       "      <td>6ukoNykP</td>\n",
       "    </tr>\n",
       "    <tr>\n",
       "      <th>1</th>\n",
       "      <td>2019-02-06T15:30:54</td>\n",
       "      <td>1</td>\n",
       "      <td>Q62R1Ue7</td>\n",
       "    </tr>\n",
       "    <tr>\n",
       "      <th>2</th>\n",
       "      <td>2019-02-08T14:53:45</td>\n",
       "      <td>1</td>\n",
       "      <td>GmfSxgPs</td>\n",
       "    </tr>\n",
       "    <tr>\n",
       "      <th>3</th>\n",
       "      <td>2019-02-10T16:50:22</td>\n",
       "      <td>2</td>\n",
       "      <td>M56OK96C</td>\n",
       "    </tr>\n",
       "    <tr>\n",
       "      <th>4</th>\n",
       "      <td>2019-02-12T14:16:28</td>\n",
       "      <td>1</td>\n",
       "      <td>q2fqVqPc</td>\n",
       "    </tr>\n",
       "    <tr>\n",
       "      <th>5</th>\n",
       "      <td>2019-02-14T15:10:45</td>\n",
       "      <td>1</td>\n",
       "      <td>LioXfSPk</td>\n",
       "    </tr>\n",
       "    <tr>\n",
       "      <th>6</th>\n",
       "      <td>2019-02-16T14:52:23</td>\n",
       "      <td>3</td>\n",
       "      <td>bQXWpQ2z</td>\n",
       "    </tr>\n",
       "    <tr>\n",
       "      <th>7</th>\n",
       "      <td>2019-02-18T15:45:33</td>\n",
       "      <td>2</td>\n",
       "      <td>gsFVGOTy</td>\n",
       "    </tr>\n",
       "    <tr>\n",
       "      <th>8</th>\n",
       "      <td>2019-02-20T16:35:12</td>\n",
       "      <td>3</td>\n",
       "      <td>zVuiSTm1</td>\n",
       "    </tr>\n",
       "    <tr>\n",
       "      <th>9</th>\n",
       "      <td>2019-02-22T15:52:27</td>\n",
       "      <td>1</td>\n",
       "      <td>kuULtbnm</td>\n",
       "    </tr>\n",
       "    <tr>\n",
       "      <th>10</th>\n",
       "      <td>2019-02-24T12:39:30</td>\n",
       "      <td>2</td>\n",
       "      <td>MKDhBt9L</td>\n",
       "    </tr>\n",
       "    <tr>\n",
       "      <th>11</th>\n",
       "      <td>2019-02-26T12:45:10</td>\n",
       "      <td>3</td>\n",
       "      <td>FEgRztcr</td>\n",
       "    </tr>\n",
       "    <tr>\n",
       "      <th>12</th>\n",
       "      <td>2019-03-04T15:34:46</td>\n",
       "      <td>4</td>\n",
       "      <td>OUBWQSCl</td>\n",
       "    </tr>\n",
       "    <tr>\n",
       "      <th>13</th>\n",
       "      <td>2019-03-06T14:20:57</td>\n",
       "      <td>5</td>\n",
       "      <td>6YeTUHgm</td>\n",
       "    </tr>\n",
       "    <tr>\n",
       "      <th>14</th>\n",
       "      <td>2019-03-08T12:34:43</td>\n",
       "      <td>6</td>\n",
       "      <td>zlrBrZ0d</td>\n",
       "    </tr>\n",
       "  </tbody>\n",
       "</table>\n",
       "</div>"
      ],
      "text/plain": [
       "              timestamp  level   page_id\n",
       "0   2019-02-04T13:22:34      1  6ukoNykP\n",
       "1   2019-02-06T15:30:54      1  Q62R1Ue7\n",
       "2   2019-02-08T14:53:45      1  GmfSxgPs\n",
       "3   2019-02-10T16:50:22      2  M56OK96C\n",
       "4   2019-02-12T14:16:28      1  q2fqVqPc\n",
       "5   2019-02-14T15:10:45      1  LioXfSPk\n",
       "6   2019-02-16T14:52:23      3  bQXWpQ2z\n",
       "7   2019-02-18T15:45:33      2  gsFVGOTy\n",
       "8   2019-02-20T16:35:12      3  zVuiSTm1\n",
       "9   2019-02-22T15:52:27      1  kuULtbnm\n",
       "10  2019-02-24T12:39:30      2  MKDhBt9L\n",
       "11  2019-02-26T12:45:10      3  FEgRztcr\n",
       "12  2019-03-04T15:34:46      4  OUBWQSCl\n",
       "13  2019-03-06T14:20:57      5  6YeTUHgm\n",
       "14  2019-03-08T12:34:43      6  zlrBrZ0d"
      ]
     },
     "execution_count": 3,
     "metadata": {},
     "output_type": "execute_result"
    }
   ],
   "source": [
    "position = pd.read_csv('./datasets/position.csv')\n",
    "\n",
    "position.head(15)"
   ]
  },
  {
   "cell_type": "markdown",
   "id": "a9a3b15d-91a8-4e7c-a617-9ad05ec3a1c8",
   "metadata": {},
   "source": [
    "##### №2"
   ]
  },
  {
   "cell_type": "code",
   "execution_count": 4,
   "id": "2e4cdebe-375d-4fc1-acd6-3ca6ed343125",
   "metadata": {},
   "outputs": [
    {
     "name": "stdout",
     "output_type": "stream",
     "text": [
      "<class 'pandas.core.frame.DataFrame'>\n",
      "RangeIndex: 39 entries, 0 to 38\n",
      "Data columns (total 3 columns):\n",
      " #   Column     Non-Null Count  Dtype \n",
      "---  ------     --------------  ----- \n",
      " 0   timestamp  39 non-null     object\n",
      " 1   level      39 non-null     int64 \n",
      " 2   page_id    39 non-null     object\n",
      "dtypes: int64(1), object(2)\n",
      "memory usage: 1.0+ KB\n"
     ]
    }
   ],
   "source": [
    "position.info()"
   ]
  },
  {
   "cell_type": "markdown",
   "id": "1fea2ad6-7f23-4cc5-85c2-e55af8e89a3e",
   "metadata": {},
   "source": [
    "##### №3"
   ]
  },
  {
   "cell_type": "code",
   "execution_count": 5,
   "id": "6fe0214a-74a3-430a-a64d-c7df64f487c9",
   "metadata": {},
   "outputs": [
    {
     "name": "stdout",
     "output_type": "stream",
     "text": [
      "            timestamp  level   page_id\n",
      "0 2019-02-04 13:22:34      1  6ukoNykP\n",
      "1 2019-02-06 15:30:54      1  Q62R1Ue7\n",
      "2 2019-02-08 14:53:45      1  GmfSxgPs\n",
      "3 2019-02-10 16:50:22      2  M56OK96C\n",
      "4 2019-02-12 14:16:28      1  q2fqVqPc\n"
     ]
    }
   ],
   "source": [
    "position['timestamp'] = pd.to_datetime(position['timestamp'], format='%Y-%m-%dT%H:%M:%S')\n",
    "\n",
    "print(position.head())"
   ]
  },
  {
   "cell_type": "markdown",
   "id": "14a105ef-92d5-4387-9ad7-4f7dd37e2da7",
   "metadata": {},
   "source": [
    "##### №4"
   ]
  },
  {
   "cell_type": "code",
   "execution_count": 6,
   "id": "9a66eb34-1898-4b92-bbaa-3696414a5bbd",
   "metadata": {},
   "outputs": [
    {
     "name": "stdout",
     "output_type": "stream",
     "text": [
      "<class 'pandas.core.frame.DataFrame'>\n",
      "RangeIndex: 39 entries, 0 to 38\n",
      "Data columns (total 3 columns):\n",
      " #   Column     Non-Null Count  Dtype         \n",
      "---  ------     --------------  -----         \n",
      " 0   timestamp  39 non-null     datetime64[ns]\n",
      " 1   level      39 non-null     int64         \n",
      " 2   page_id    39 non-null     object        \n",
      "dtypes: datetime64[ns](1), int64(1), object(1)\n",
      "memory usage: 1.0+ KB\n"
     ]
    }
   ],
   "source": [
    "position.info()"
   ]
  },
  {
   "cell_type": "markdown",
   "id": "39e990a1-4e1b-4347-88a2-3c70d71a110f",
   "metadata": {},
   "source": [
    "##### №5"
   ]
  },
  {
   "cell_type": "code",
   "execution_count": 7,
   "id": "e3892295-c260-4653-ba65-72ed59d6d329",
   "metadata": {},
   "outputs": [
    {
     "name": "stdout",
     "output_type": "stream",
     "text": [
      "             timestamp  level   page_id\n",
      "0  2019-02-04 13:22:34      1  6ukoNykP\n",
      "1  2019-02-06 15:30:54      1  Q62R1Ue7\n",
      "2  2019-02-08 14:53:45      1  GmfSxgPs\n",
      "4  2019-02-12 14:16:28      1  q2fqVqPc\n",
      "5  2019-02-14 15:10:45      1  LioXfSPk\n",
      "9  2019-02-22 15:52:27      1  kuULtbnm\n",
      "3  2019-02-10 16:50:22      2  M56OK96C\n",
      "26 2019-04-03 15:12:15      2  NJ1D9dAt\n",
      "7  2019-02-18 15:45:33      2  gsFVGOTy\n",
      "10 2019-02-24 12:39:30      2  MKDhBt9L\n",
      "16 2019-03-12 15:33:28      3  Y3wTtqaJ\n",
      "11 2019-02-26 12:45:10      3  FEgRztcr\n",
      "8  2019-02-20 16:35:12      3  zVuiSTm1\n",
      "6  2019-02-16 14:52:23      3  bQXWpQ2z\n",
      "12 2019-03-04 15:34:46      4  OUBWQSCl\n",
      "17 2019-03-14 12:46:19      4  g4si3TQ8\n",
      "13 2019-03-06 14:20:57      5  6YeTUHgm\n",
      "36 2019-04-23 13:17:19      5  6KVLFFQF\n",
      "18 2019-03-16 16:18:34      5  zPH6tQwc\n",
      "32 2019-04-15 12:28:54      5  sCKAcOTN\n",
      "25 2019-04-01 13:43:49      5  7UCXvXJu\n",
      "23 2019-03-26 15:50:31      5  p4Ofo5uP\n",
      "33 2019-04-17 16:54:17      6  JjIZd3Jy\n",
      "28 2019-04-07 16:29:58      6  bsORIc79\n",
      "19 2019-03-18 16:47:36      6  057NPKXX\n",
      "37 2019-04-25 16:10:50      6  clLGJ4g3\n",
      "14 2019-03-08 12:34:43      6  zlrBrZ0d\n",
      "24 2019-03-28 15:28:17      6  aQdvnaZX\n",
      "27 2019-04-05 14:51:38      7  7JKRCdPA\n",
      "20 2019-03-20 15:53:36      7  VkTjZ6co\n",
      "29 2019-04-09 14:57:20      7  SfnhoGh6\n",
      "31 2019-04-13 12:13:26      7  ILfc3WmK\n",
      "15 2019-03-10 13:12:57      7  Vih5ARKA\n",
      "34 2019-04-19 15:43:24      7  MSHZViNg\n",
      "21 2019-03-22 16:36:19      8  s24ZIat3\n",
      "30 2019-04-11 13:39:15      8  9mL07Mjl\n",
      "35 2019-04-21 14:40:17      8  JvTMAbs7\n",
      "38 2019-04-27 12:48:14      8  5VRryKr6\n",
      "22 2019-03-24 13:49:22      9  WklxK6k4\n"
     ]
    }
   ],
   "source": [
    "print(position.sort_values('level'))"
   ]
  },
  {
   "cell_type": "markdown",
   "id": "40fd8fe3-7b09-4969-bd6e-d55781da16b2",
   "metadata": {},
   "source": [
    "##### №6"
   ]
  },
  {
   "cell_type": "code",
   "execution_count": 8,
   "id": "3ef9e94c-eb54-44a9-8117-28ac682b822c",
   "metadata": {},
   "outputs": [
    {
     "name": "stdout",
     "output_type": "stream",
     "text": [
      "            timestamp  level   page_id  month\n",
      "0 2019-02-04 13:22:34      1  6ukoNykP      2\n",
      "1 2019-02-06 15:30:54      1  Q62R1Ue7      2\n",
      "2 2019-02-08 14:53:45      1  GmfSxgPs      2\n",
      "3 2019-02-10 16:50:22      2  M56OK96C      2\n",
      "4 2019-02-12 14:16:28      1  q2fqVqPc      2\n"
     ]
    }
   ],
   "source": [
    "position['month'] = pd.DatetimeIndex(position['timestamp']).month\n",
    "\n",
    "print(position.head())"
   ]
  },
  {
   "cell_type": "markdown",
   "id": "3d89e9a7-fa14-4287-86c5-24be15fd0cae",
   "metadata": {},
   "source": [
    "##### №7"
   ]
  },
  {
   "cell_type": "code",
   "execution_count": 12,
   "id": "4009111e-5b64-4df0-a3ff-4b93f84759db",
   "metadata": {},
   "outputs": [
    {
     "name": "stdout",
     "output_type": "stream",
     "text": [
      "month\n",
      "2    1.750000\n",
      "3    5.769231\n",
      "4    6.214286\n",
      "Name: level, dtype: float64\n"
     ]
    }
   ],
   "source": [
    "print(position.groupby('month')['level'].mean())"
   ]
  },
  {
   "cell_type": "markdown",
   "id": "9897ffea-04e8-4781-899d-8414a676fabe",
   "metadata": {},
   "source": [
    "#### Обработка ошибок: try-except"
   ]
  },
  {
   "cell_type": "code",
   "execution_count": 1,
   "id": "449d5205-05bd-42a2-af6d-b759b7f68259",
   "metadata": {},
   "outputs": [
    {
     "ename": "ZeroDivisionError",
     "evalue": "division by zero",
     "output_type": "error",
     "traceback": [
      "\u001b[1;31m---------------------------------------------------------------------------\u001b[0m",
      "\u001b[1;31mZeroDivisionError\u001b[0m                         Traceback (most recent call last)",
      "Input \u001b[1;32mIn [1]\u001b[0m, in \u001b[0;36m<module>\u001b[1;34m\u001b[0m\n\u001b[0;32m      1\u001b[0m a \u001b[38;5;241m=\u001b[39m \u001b[38;5;241m1\u001b[39m\n\u001b[0;32m      2\u001b[0m b \u001b[38;5;241m=\u001b[39m \u001b[38;5;241m0\u001b[39m\n\u001b[1;32m----> 3\u001b[0m \u001b[38;5;28mprint\u001b[39m(\u001b[43ma\u001b[49m\u001b[43m \u001b[49m\u001b[38;5;241;43m/\u001b[39;49m\u001b[43m \u001b[49m\u001b[43mb\u001b[49m)  \u001b[38;5;66;03m# распечатаем на экране результат деления на ноль\u001b[39;00m\n\u001b[0;32m      4\u001b[0m \u001b[38;5;28mprint\u001b[39m(\u001b[38;5;124m'\u001b[39m\u001b[38;5;124mКстати, хорошего дня\u001b[39m\u001b[38;5;124m'\u001b[39m)\n",
      "\u001b[1;31mZeroDivisionError\u001b[0m: division by zero"
     ]
    }
   ],
   "source": [
    "a = 1\n",
    "b = 0\n",
    "print(a / b)  # распечатаем на экране результат деления на ноль\n",
    "print('Кстати, хорошего дня')  # заодно пожелаем хорошего дня"
   ]
  },
  {
   "cell_type": "code",
   "execution_count": 2,
   "id": "649f6826-2ba0-4727-b5b5-ff6f69df6222",
   "metadata": {},
   "outputs": [
    {
     "name": "stdout",
     "output_type": "stream",
     "text": [
      "Проверьте значения параметров a и b\n",
      "Кстати, хорошего дня\n"
     ]
    }
   ],
   "source": [
    "a = 1\n",
    "b = 0\n",
    "try:\n",
    "    print(a / b)\n",
    "except:\n",
    "    print('Проверьте значения параметров a и b')\n",
    "print('Кстати, хорошего дня')"
   ]
  },
  {
   "cell_type": "code",
   "execution_count": 3,
   "id": "de502741-c82a-431e-b47f-aba8c310b6c2",
   "metadata": {},
   "outputs": [
    {
     "name": "stdout",
     "output_type": "stream",
     "text": [
      "10 / 10 равно 1.0\n",
      "1 / 1 равно 1.0\n",
      "Не получилось разделить 0 на 0\n",
      "-3 / -3 равно 1.0\n",
      "999 / 999 равно 1.0\n",
      "Хорошего дня!\n"
     ]
    }
   ],
   "source": [
    "numbers = [10, 1, 0, -3, 999]\n",
    "\n",
    "for number in numbers:\n",
    "    try:\n",
    "        print(f'{number} / {number} равно {number / number}')\n",
    "    except:\n",
    "        print(f'Не получилось разделить {number} на {number}')\n",
    "print('Хорошего дня!')"
   ]
  },
  {
   "cell_type": "markdown",
   "id": "19e31542-691a-4659-b6ac-e090f676d9be",
   "metadata": {},
   "source": [
    "#### Метод merge()"
   ]
  },
  {
   "cell_type": "code",
   "execution_count": 10,
   "id": "2c5b76b7-a9dc-49dc-a2ef-ed66264c9a6c",
   "metadata": {},
   "outputs": [
    {
     "name": "stdout",
     "output_type": "stream",
     "text": [
      "  subcategory_id  source         visits                subcategory_name  \\\n",
      "0     cf2e61c7af  direct  501165.668858              Мобильные телефоны   \n",
      "1     0cd903d1cc  direct  126342.359505                        Ноутбуки   \n",
      "2     ef35bc88a7  direct   95626.321402                      Телевизоры   \n",
      "3     6ff9f4014c  direct   75680.653002                        Планшеты   \n",
      "4     72bc238e4d  direct   64435.934651  Наушники и Bluetooth-гарнитуры   \n",
      "5     88c78ea685  direct   39638.202995                            Шины   \n",
      "6     179bfacf4a  direct   31007.471245           Умные часы и браслеты   \n",
      "7     b0fb8f259a  direct   30324.097324                        Мониторы   \n",
      "8     3c67eb2d90  direct   25878.814329                   Наручные часы   \n",
      "9     24e6c815c6  direct   25276.373358  Лекарственные препараты и БАДы   \n",
      "\n",
      "  category_id  \n",
      "0  09f279a643  \n",
      "1  3509869a61  \n",
      "2  09f279a643  \n",
      "3  3509869a61  \n",
      "4  09f279a643  \n",
      "5  65922fa39c  \n",
      "6  09f279a643  \n",
      "7  3509869a61  \n",
      "8  6074ad29ac  \n",
      "9  10a493e03b  \n"
     ]
    }
   ],
   "source": [
    "data_subcategory = traffic_data.merge(subcategory_dict, on='subcategory_id', how='left')\n",
    "print(data_subcategory.head(10))"
   ]
  },
  {
   "cell_type": "markdown",
   "id": "1d3e98f6-3dc8-4646-8cc9-724d920224a7",
   "metadata": {},
   "source": [
    "### Сводные таблицы"
   ]
  },
  {
   "cell_type": "code",
   "execution_count": 14,
   "id": "5563151d-2d87-4089-bedf-d50f6e904461",
   "metadata": {},
   "outputs": [
    {
     "name": "stdout",
     "output_type": "stream",
     "text": [
      "  subcategory_id  source         visits                subcategory_name  \\\n",
      "0     cf2e61c7af  direct  501165.668858              Мобильные телефоны   \n",
      "1     0cd903d1cc  direct  126342.359505                        Ноутбуки   \n",
      "2     ef35bc88a7  direct   95626.321402                      Телевизоры   \n",
      "3     6ff9f4014c  direct   75680.653002                        Планшеты   \n",
      "4     72bc238e4d  direct   64435.934651  Наушники и Bluetooth-гарнитуры   \n",
      "\n",
      "  category_id         category_name  \n",
      "0  09f279a643           Электроника  \n",
      "1  3509869a61  Компьютерная техника  \n",
      "2  09f279a643           Электроника  \n",
      "3  3509869a61  Компьютерная техника  \n",
      "4  09f279a643           Электроника  \n"
     ]
    }
   ],
   "source": [
    "data_final = data_subcategory.merge(category_dict, on='category_id', how='left')\n",
    "print(data_final.head())"
   ]
  },
  {
   "cell_type": "code",
   "execution_count": 19,
   "id": "fde6082f-1703-4dbd-bc78-faa5fa129247",
   "metadata": {},
   "outputs": [
    {
     "name": "stdout",
     "output_type": "stream",
     "text": [
      "source                                         direct       organic\n",
      "category_name subcategory_name                                     \n",
      "Авто          Автоакустика                5915.606541  15433.405558\n",
      "              Автомагнитолы               7783.806626  18690.016622\n",
      "              Автомобильные инверторы      145.925199    150.592871\n",
      "              Автомобильные компрессоры    407.264303    790.164679\n",
      "              Автомобильные телевизоры     975.978827   2246.595618\n",
      "              Автомобильные холодильники   204.631014    285.110834\n",
      "              Автосигнализации             494.025691   1026.092391\n",
      "              Аккумуляторные батареи      1175.227510   2657.217881\n",
      "              Антифризы                    736.588757   1568.277621\n",
      "              Багажники, рейлинги          342.372257    664.308906\n"
     ]
    }
   ],
   "source": [
    "data_pivot = data_final.pivot_table(index=['category_name', 'subcategory_name'],\n",
    "                                    columns='source', values='visits', aggfunc='sum')\n",
    "print(data_pivot.head(10))"
   ]
  },
  {
   "cell_type": "code",
   "execution_count": 21,
   "id": "795d867e-5578-41d2-9c98-8257ce305d22",
   "metadata": {},
   "outputs": [
    {
     "name": "stdout",
     "output_type": "stream",
     "text": [
      "source category_name            subcategory_name       direct       organic\n",
      "0               Авто                Автоакустика  5915.606541  15433.405558\n",
      "1               Авто               Автомагнитолы  7783.806626  18690.016622\n",
      "2               Авто     Автомобильные инверторы   145.925199    150.592871\n",
      "3               Авто   Автомобильные компрессоры   407.264303    790.164679\n",
      "4               Авто    Автомобильные телевизоры   975.978827   2246.595618\n",
      "5               Авто  Автомобильные холодильники   204.631014    285.110834\n",
      "6               Авто            Автосигнализации   494.025691   1026.092391\n",
      "7               Авто      Аккумуляторные батареи  1175.227510   2657.217881\n",
      "8               Авто                   Антифризы   736.588757   1568.277621\n",
      "9               Авто         Багажники, рейлинги   342.372257    664.308906\n"
     ]
    }
   ],
   "source": [
    "data_pivot_with_reset_index = data_pivot.reset_index()\n",
    "print(data_pivot_with_reset_index.head(10))  # \"широкий\" формат данных"
   ]
  },
  {
   "cell_type": "code",
   "execution_count": 22,
   "id": "e468421a-3d8a-499d-bbda-6b77766d306f",
   "metadata": {},
   "outputs": [
    {
     "name": "stdout",
     "output_type": "stream",
     "text": [
      "                                                       visits\n",
      "category_name subcategory_name          source               \n",
      "Авто          Автоакустика              direct    5915.606541\n",
      "                                        organic  15433.405558\n",
      "              Автомагнитолы             direct    7783.806626\n",
      "                                        organic  18690.016622\n",
      "              Автомобильные инверторы   direct     145.925199\n",
      "                                        organic    150.592871\n",
      "              Автомобильные компрессоры direct     407.264303\n",
      "                                        organic    790.164679\n",
      "              Автомобильные телевизоры  direct     975.978827\n",
      "                                        organic   2246.595618\n"
     ]
    }
   ],
   "source": [
    "data_grouped = data_final.groupby(['category_name', 'subcategory_name', 'source']).agg({'visits': 'sum'})\n",
    "print(data_grouped.head(10))  # \"длинный\" формат данных"
   ]
  },
  {
   "cell_type": "code",
   "execution_count": 23,
   "id": "91732fe9-15f1-4265-bb2e-13c4835e34c9",
   "metadata": {},
   "outputs": [
    {
     "name": "stdout",
     "output_type": "stream",
     "text": [
      "                                                       visits daily_visits\n",
      "category_name subcategory_name          source                            \n",
      "Авто          Автоакустика              direct    5915.606541   197.186885\n",
      "                                        organic  15433.405558   514.446852\n",
      "              Автомагнитолы             direct    7783.806626   259.460221\n",
      "                                        organic  18690.016622   623.000554\n",
      "              Автомобильные инверторы   direct     145.925199     4.864173\n",
      "                                        organic    150.592871     5.019762\n",
      "              Автомобильные компрессоры direct     407.264303    13.575477\n",
      "                                        organic    790.164679    26.338823\n",
      "              Автомобильные телевизоры  direct     975.978827    32.532628\n",
      "                                        organic   2246.595618    74.886521\n"
     ]
    }
   ],
   "source": [
    "data_grouped['daily_visits'] = data_grouped['visits'] / 30\n",
    "print(data_grouped.head(10))"
   ]
  },
  {
   "cell_type": "markdown",
   "id": "29596093-04f3-474f-8aab-a8243473bb43",
   "metadata": {},
   "source": [
    "##### №1"
   ]
  },
  {
   "cell_type": "code",
   "execution_count": 24,
   "id": "b56e648d-0b3f-4d87-a7b8-481cb92e7018",
   "metadata": {},
   "outputs": [
    {
     "name": "stdout",
     "output_type": "stream",
     "text": [
      "source                                         direct       organic\n",
      "category_name subcategory_name                                     \n",
      "Авто          Автоакустика                5915.606541  15433.405558\n",
      "              Автомагнитолы               7783.806626  18690.016622\n",
      "              Автомобильные инверторы      145.925199    150.592871\n",
      "              Автомобильные компрессоры    407.264303    790.164679\n",
      "              Автомобильные телевизоры     975.978827   2246.595618\n",
      "              Автомобильные холодильники   204.631014    285.110834\n",
      "              Автосигнализации             494.025691   1026.092391\n",
      "              Аккумуляторные батареи      1175.227510   2657.217881\n",
      "              Антифризы                    736.588757   1568.277621\n",
      "              Багажники, рейлинги          342.372257    664.308906\n"
     ]
    }
   ],
   "source": [
    "data_pivot = data_final.pivot_table(index=['category_name', 'subcategory_name'],\n",
    "                                    columns='source', values='visits', aggfunc='sum')\n",
    "print(data_pivot.head(10))"
   ]
  },
  {
   "cell_type": "markdown",
   "id": "7d74719b-044e-4de0-884d-e82f3e7ac758",
   "metadata": {},
   "source": [
    "##### №2"
   ]
  },
  {
   "cell_type": "code",
   "execution_count": 26,
   "id": "2f5b0d5a-6471-4176-b03a-379555b2a161",
   "metadata": {},
   "outputs": [
    {
     "name": "stdout",
     "output_type": "stream",
     "text": [
      "source                                         direct       organic     ratio\n",
      "category_name subcategory_name                                               \n",
      "Авто          Автоакустика                5915.606541  15433.405558  2.608930\n",
      "              Автомагнитолы               7783.806626  18690.016622  2.401141\n",
      "              Автомобильные инверторы      145.925199    150.592871  1.031987\n",
      "              Автомобильные компрессоры    407.264303    790.164679  1.940177\n",
      "              Автомобильные телевизоры     975.978827   2246.595618  2.301890\n",
      "              Автомобильные холодильники   204.631014    285.110834  1.393292\n",
      "              Автосигнализации             494.025691   1026.092391  2.077002\n",
      "              Аккумуляторные батареи      1175.227510   2657.217881  2.261024\n",
      "              Антифризы                    736.588757   1568.277621  2.129109\n",
      "              Багажники, рейлинги          342.372257    664.308906  1.940312\n"
     ]
    }
   ],
   "source": [
    "data_pivot['ratio'] = data_pivot['organic'] / data_pivot['direct']\n",
    "\n",
    "print(data_pivot.head(10))"
   ]
  },
  {
   "cell_type": "markdown",
   "id": "6016a048-3dca-453f-b935-e99af67477c1",
   "metadata": {},
   "source": [
    "##### №3"
   ]
  },
  {
   "cell_type": "code",
   "execution_count": 29,
   "id": "e305d27c-32be-40e7-9d9f-ef4a1c31aad1",
   "metadata": {},
   "outputs": [
    {
     "name": "stdout",
     "output_type": "stream",
     "text": [
      "source                                                           direct  \\\n",
      "category_name          subcategory_name                                   \n",
      "Авто                   Шины                                39638.202995   \n",
      "Бытовая техника        Стиральные машины                   22064.436847   \n",
      "Спорт и отдых          Велосипеды                          16009.579071   \n",
      "Детские товары         Коляски                             18079.643217   \n",
      "Строительство и ремонт Сварочные аппараты                   6175.438323   \n",
      "Товары для дома        Компьютерные кресла                  6208.431964   \n",
      "Компьютерная техника   Клавиатуры                           6224.687670   \n",
      "Электроника            Универсальные внешние аккумуляторы   6146.908292   \n",
      "                       TV-тюнеры                            6275.058046   \n",
      "Бытовая техника        Холодильники                        20920.733424   \n",
      "\n",
      "source                                                           organic  \\\n",
      "category_name          subcategory_name                                    \n",
      "Авто                   Шины                                153859.454228   \n",
      "Бытовая техника        Стиральные машины                    64570.606526   \n",
      "Спорт и отдых          Велосипеды                           46087.870786   \n",
      "Детские товары         Коляски                              52005.251013   \n",
      "Строительство и ремонт Сварочные аппараты                   17325.802396   \n",
      "Товары для дома        Компьютерные кресла                  17407.057106   \n",
      "Компьютерная техника   Клавиатуры                           17417.357430   \n",
      "Электроника            Универсальные внешние аккумуляторы   17115.415868   \n",
      "                       TV-тюнеры                            17427.655189   \n",
      "Бытовая техника        Холодильники                         57985.930965   \n",
      "\n",
      "source                                                        ratio  \n",
      "category_name          subcategory_name                              \n",
      "Авто                   Шины                                3.881595  \n",
      "Бытовая техника        Стиральные машины                   2.926456  \n",
      "Спорт и отдых          Велосипеды                          2.878768  \n",
      "Детские товары         Коляски                             2.876453  \n",
      "Строительство и ремонт Сварочные аппараты                  2.805599  \n",
      "Товары для дома        Компьютерные кресла                 2.803777  \n",
      "Компьютерная техника   Клавиатуры                          2.798109  \n",
      "Электроника            Универсальные внешние аккумуляторы  2.784394  \n",
      "                       TV-тюнеры                           2.777290  \n",
      "Бытовая техника        Холодильники                        2.771697  \n"
     ]
    }
   ],
   "source": [
    "print(data_pivot.sort_values('ratio', ascending=False).head(10))"
   ]
  },
  {
   "cell_type": "markdown",
   "id": "81e0372f-e1c0-4fac-8547-380b6d5efeb1",
   "metadata": {},
   "source": [
    "##### №4"
   ]
  },
  {
   "cell_type": "code",
   "execution_count": 32,
   "id": "fc970e3b-71ee-457a-8ee4-4b9495558b6f",
   "metadata": {},
   "outputs": [
    {
     "name": "stdout",
     "output_type": "stream",
     "text": [
      "source                                                     direct    organic  \\\n",
      "category_name              subcategory_name                                    \n",
      "Спорт и отдых              Жиросжигатели                92.491963  27.014894   \n",
      "Товары для красоты         Кисти, спонжи и аппликаторы  96.259976  27.990012   \n",
      "Продукты                   Макароны                     86.843595  24.433584   \n",
      "Спорт и отдых              Гребные тренажеры            89.052031  24.748969   \n",
      "Детские товары             Играем в салон красоты       88.447118  24.468693   \n",
      "                           Блокноты                     79.768958  21.544606   \n",
      "Одежда, обувь и аксессуары Термобелье                   67.385944  13.875540   \n",
      "Строительство и ремонт     Проволока                    76.838223  15.813045   \n",
      "Авто                       Наклейки, шильдики и значки  50.479851   9.204211   \n",
      "Детские товары             Гигиена полости рта          27.301572   4.606261   \n",
      "\n",
      "source                                                     ratio  \n",
      "category_name              subcategory_name                       \n",
      "Спорт и отдых              Жиросжигатели                0.292078  \n",
      "Товары для красоты         Кисти, спонжи и аппликаторы  0.290775  \n",
      "Продукты                   Макароны                     0.281352  \n",
      "Спорт и отдых              Гребные тренажеры            0.277916  \n",
      "Детские товары             Играем в салон красоты       0.276648  \n",
      "                           Блокноты                     0.270088  \n",
      "Одежда, обувь и аксессуары Термобелье                   0.205911  \n",
      "Строительство и ремонт     Проволока                    0.205797  \n",
      "Авто                       Наклейки, шильдики и значки  0.182334  \n",
      "Детские товары             Гигиена полости рта          0.168718  \n"
     ]
    }
   ],
   "source": [
    "print(data_pivot.sort_values('ratio', ascending=False).tail(10))"
   ]
  },
  {
   "cell_type": "markdown",
   "id": "2b6424b0-d200-4a89-a6f5-b17341ee57a8",
   "metadata": {},
   "source": [
    "##### №5"
   ]
  },
  {
   "cell_type": "code",
   "execution_count": 33,
   "id": "e0173a82-63ea-4669-969f-50879cd42d32",
   "metadata": {},
   "outputs": [
    {
     "name": "stdout",
     "output_type": "stream",
     "text": [
      "source                                                            direct  \\\n",
      "category_name              subcategory_name                                \n",
      "Бытовая техника            Оверлоки и распошивальные машины  1536.538201   \n",
      "Товары для дома            Компьютерные и письменные столы   1999.746292   \n",
      "                           Люстры                            2016.662654   \n",
      "Строительство и ремонт     Дисковые пилы                     2040.251241   \n",
      "                           Воздушные компрессоры             1690.492249   \n",
      "Товары для здоровья        Бандажи и ортезы                  1659.195233   \n",
      "Электроника                Защитные пленки и стекла          1560.395673   \n",
      "Строительство и ремонт     Нивелиры и лазерные уровни        1651.947395   \n",
      "Одежда, обувь и аксессуары Туфли                             1036.253838   \n",
      "                           Сапоги                            1009.586105   \n",
      "\n",
      "source                                                           organic  \\\n",
      "category_name              subcategory_name                                \n",
      "Бытовая техника            Оверлоки и распошивальные машины  3215.115336   \n",
      "Товары для дома            Компьютерные и письменные столы   4177.299231   \n",
      "                           Люстры                            4209.611976   \n",
      "Строительство и ремонт     Дисковые пилы                     4255.639872   \n",
      "                           Воздушные компрессоры             3520.404831   \n",
      "Товары для здоровья        Бандажи и ортезы                  3453.165773   \n",
      "Электроника                Защитные пленки и стекла          3246.629811   \n",
      "Строительство и ремонт     Нивелиры и лазерные уровни        3436.972506   \n",
      "Одежда, обувь и аксессуары Туфли                             2097.368209   \n",
      "                           Сапоги                            2021.903456   \n",
      "\n",
      "source                                                          ratio  \n",
      "category_name              subcategory_name                            \n",
      "Бытовая техника            Оверлоки и распошивальные машины  2.092441  \n",
      "Товары для дома            Компьютерные и письменные столы   2.088915  \n",
      "                           Люстры                            2.087415  \n",
      "Строительство и ремонт     Дисковые пилы                     2.085841  \n",
      "                           Воздушные компрессоры             2.082473  \n",
      "Товары для здоровья        Бандажи и ортезы                  2.081229  \n",
      "Электроника                Защитные пленки и стекла          2.080645  \n",
      "Строительство и ремонт     Нивелиры и лазерные уровни        2.080558  \n",
      "Одежда, обувь и аксессуары Туфли                             2.023991  \n",
      "                           Сапоги                            2.002705  \n"
     ]
    }
   ],
   "source": [
    "print(data_pivot.sort_values('ratio', ascending=False).loc[data_pivot['direct'] > 1000].tail(10))"
   ]
  },
  {
   "cell_type": "markdown",
   "id": "2acfb3b3-5984-49b9-847d-85e7e235d4bd",
   "metadata": {},
   "source": [
    "### Поиск дубликатов"
   ]
  },
  {
   "cell_type": "markdown",
   "id": "fba5837a-3b72-4be4-924c-7fc25327f509",
   "metadata": {},
   "source": [
    "#### Ручной поиск дубликатов"
   ]
  },
  {
   "cell_type": "code",
   "execution_count": 34,
   "id": "800dcdb0-3ac6-4077-ad8f-a83ef1bd9f4e",
   "metadata": {},
   "outputs": [
    {
     "name": "stdout",
     "output_type": "stream",
     "text": [
      "          id                              item  count\n",
      "0  100480924     Смартфон Xiaomi Redmi 6A 16GB     32\n",
      "1  100480929     Смартфон Xiaomi Redmi 6A 16GB     10\n",
      "2  100480938  Смартфон Samsung Galaxy A30 32GB     49\n",
      "3  100480952  смартфон Samsung Galaxy A30 32gb     11\n",
      "4  100480959          Смартфон HUAWEI P30 lite      5\n"
     ]
    }
   ],
   "source": [
    "stock = pd.read_excel('./datasets/stock.xlsx', sheet_name='storehouse')\n",
    "print(stock.head())"
   ]
  },
  {
   "cell_type": "markdown",
   "id": "575aec37-69b8-4510-8f84-7553d314b48b",
   "metadata": {},
   "source": [
    "##### №1"
   ]
  },
  {
   "cell_type": "code",
   "execution_count": 41,
   "id": "655c6049-5c3c-4a05-be98-6964d10481cd",
   "metadata": {},
   "outputs": [
    {
     "name": "stdout",
     "output_type": "stream",
     "text": [
      "Дубликатов в таблице: 3\n"
     ]
    }
   ],
   "source": [
    "print(f\"Дубликатов в таблице: {stock.duplicated('item').sum()}\")"
   ]
  },
  {
   "cell_type": "markdown",
   "id": "4818f9a2-f134-4175-8d5b-4b7c25fbf70f",
   "metadata": {},
   "source": [
    "##### №2"
   ]
  },
  {
   "cell_type": "code",
   "execution_count": 45,
   "id": "66ea7fe4-27a4-430f-b06d-1dea35aba4c2",
   "metadata": {},
   "outputs": [
    {
     "name": "stdout",
     "output_type": "stream",
     "text": [
      "Смартфон Xiaomi Redmi 6A 16GB       3\n",
      "Смартфон HUAWEI P30 lite            2\n",
      "Смартфон Samsung Galaxy A30 32GB    1\n",
      "смартфон Samsung Galaxy A30 32gb    1\n",
      "Смартфон Apple iPhone Xr 64gb       1\n",
      "Смартфон Honor 8X 64GB              1\n",
      "Смартфон Apple iPhone Xr 64GB       1\n",
      "Name: item, dtype: int64\n"
     ]
    }
   ],
   "source": [
    "print(stock['item'].value_counts())"
   ]
  },
  {
   "cell_type": "markdown",
   "id": "177ee1e0-64d5-4198-badb-2c432e6db7f0",
   "metadata": {},
   "source": [
    "##### №3"
   ]
  },
  {
   "cell_type": "code",
   "execution_count": 48,
   "id": "0edce1ff-ecde-40f4-bbfa-e957f3f6cf05",
   "metadata": {},
   "outputs": [
    {
     "name": "stdout",
     "output_type": "stream",
     "text": [
      "44\n"
     ]
    }
   ],
   "source": [
    "xiaomi = stock[stock['item'] == 'Смартфон Xiaomi Redmi 6A 16GB']['count'].sum()\n",
    "print(xiaomi)"
   ]
  },
  {
   "cell_type": "markdown",
   "id": "d65f6a9c-db67-498c-8c88-c6c49a58fc43",
   "metadata": {},
   "source": [
    "##### №4"
   ]
  },
  {
   "cell_type": "code",
   "execution_count": 49,
   "id": "9dac0f37-8c9b-4197-aea7-abf58ee62af5",
   "metadata": {},
   "outputs": [
    {
     "name": "stdout",
     "output_type": "stream",
     "text": [
      "38\n"
     ]
    }
   ],
   "source": [
    "huawei = stock[stock['item'] == 'Смартфон HUAWEI P30 lite']['count'].sum()\n",
    "print(huawei)"
   ]
  },
  {
   "cell_type": "markdown",
   "id": "e8e0cee2-8164-441a-9336-6b88b75f28f0",
   "metadata": {},
   "source": [
    "##### №5"
   ]
  },
  {
   "cell_type": "code",
   "execution_count": 50,
   "id": "117340d2-e49a-4117-acf8-ac4262715e30",
   "metadata": {},
   "outputs": [
    {
     "name": "stdout",
     "output_type": "stream",
     "text": [
      "          id                              item  count\n",
      "0  100480924     Смартфон Xiaomi Redmi 6A 16GB     32\n",
      "1  100480938  Смартфон Samsung Galaxy A30 32GB     49\n",
      "2  100480952  смартфон Samsung Galaxy A30 32gb     11\n",
      "3  100480959          Смартфон HUAWEI P30 lite      5\n",
      "4  100480975     Смартфон Apple iPhone Xr 64gb     10\n",
      "5  100480988            Смартфон Honor 8X 64GB     64\n",
      "6  100481020     Смартфон Apple iPhone Xr 64GB     19\n"
     ]
    }
   ],
   "source": [
    "stock = stock.drop_duplicates(['item']).reset_index(drop=True)\n",
    "print(stock)"
   ]
  },
  {
   "cell_type": "markdown",
   "id": "44747c5f-f1e7-48d1-8043-edd37e23ff01",
   "metadata": {},
   "source": [
    "##### №6"
   ]
  },
  {
   "cell_type": "code",
   "execution_count": 51,
   "id": "b62a7375-7c47-4f86-b5ae-16e97d044c12",
   "metadata": {},
   "outputs": [
    {
     "name": "stdout",
     "output_type": "stream",
     "text": [
      "          id                              item  count\n",
      "0  100480924     Смартфон Xiaomi Redmi 6A 16GB     32\n",
      "1  100480938  Смартфон Samsung Galaxy A30 32GB     49\n",
      "2  100480952  смартфон Samsung Galaxy A30 32gb     11\n",
      "3  100480959          Смартфон HUAWEI P30 lite      5\n",
      "4  100480975     Смартфон Apple iPhone Xr 64gb     10\n",
      "5  100480988            Смартфон Honor 8X 64GB     64\n",
      "6  100481020     Смартфон Apple iPhone Xr 64GB     19\n"
     ]
    }
   ],
   "source": [
    "stock = stock.dropna().reset_index(drop=True)\n",
    "print(stock)"
   ]
  },
  {
   "cell_type": "markdown",
   "id": "648c5730-7c44-44b2-abc5-644d73f3dd3b",
   "metadata": {},
   "source": [
    "##### №7"
   ]
  },
  {
   "cell_type": "code",
   "execution_count": 54,
   "id": "115fe173-e189-446a-a26e-6570a179c1ca",
   "metadata": {},
   "outputs": [
    {
     "name": "stdout",
     "output_type": "stream",
     "text": [
      "          id                              item  count\n",
      "0  100480924     Смартфон Xiaomi Redmi 6A 16GB     44\n",
      "1  100480938  Смартфон Samsung Galaxy A30 32GB     49\n",
      "2  100480952  смартфон Samsung Galaxy A30 32gb     11\n",
      "3  100480959          Смартфон HUAWEI P30 lite      5\n",
      "4  100480975     Смартфон Apple iPhone Xr 64gb     10\n",
      "5  100480988            Смартфон Honor 8X 64GB     64\n",
      "6  100481020     Смартфон Apple iPhone Xr 64GB     19\n"
     ]
    }
   ],
   "source": [
    "stock.loc[stock['item'] == 'Смартфон Xiaomi Redmi 6A 16GB', 'count'] = xiaomi\n",
    "print(stock)"
   ]
  },
  {
   "cell_type": "markdown",
   "id": "36a3f3fa-eaf2-4fde-a84d-252f3672dbb0",
   "metadata": {},
   "source": [
    "##### №8"
   ]
  },
  {
   "cell_type": "code",
   "execution_count": 55,
   "id": "3b53108f-8257-43b3-bd5e-0100e4f0c52a",
   "metadata": {},
   "outputs": [
    {
     "name": "stdout",
     "output_type": "stream",
     "text": [
      "          id                              item  count\n",
      "0  100480924     Смартфон Xiaomi Redmi 6A 16GB     44\n",
      "1  100480938  Смартфон Samsung Galaxy A30 32GB     49\n",
      "2  100480952  смартфон Samsung Galaxy A30 32gb     11\n",
      "3  100480959          Смартфон HUAWEI P30 lite     38\n",
      "4  100480975     Смартфон Apple iPhone Xr 64gb     10\n",
      "5  100480988            Смартфон Honor 8X 64GB     64\n",
      "6  100481020     Смартфон Apple iPhone Xr 64GB     19\n"
     ]
    }
   ],
   "source": [
    "stock.loc[stock['item'] == 'Смартфон HUAWEI P30 lite', 'count'] = huawei\n",
    "print(stock)"
   ]
  },
  {
   "cell_type": "markdown",
   "id": "1dab1b82-f017-461b-b05d-c0bf7b96b9f2",
   "metadata": {},
   "source": [
    "#### Ручной поиск дубликатов с учетом регистра"
   ]
  },
  {
   "cell_type": "code",
   "execution_count": 56,
   "id": "29067b29-5688-44ef-8ef5-57c9bec5397e",
   "metadata": {},
   "outputs": [
    {
     "data": {
      "text/plain": [
       "Смартфон Xiaomi Redmi 6A 16GB       1\n",
       "Смартфон Samsung Galaxy A30 32GB    1\n",
       "смартфон Samsung Galaxy A30 32gb    1\n",
       "Смартфон HUAWEI P30 lite            1\n",
       "Смартфон Apple iPhone Xr 64gb       1\n",
       "Смартфон Honor 8X 64GB              1\n",
       "Смартфон Apple iPhone Xr 64GB       1\n",
       "Name: item, dtype: int64"
      ]
     },
     "execution_count": 56,
     "metadata": {},
     "output_type": "execute_result"
    }
   ],
   "source": [
    "stock['item'].value_counts()"
   ]
  },
  {
   "cell_type": "markdown",
   "id": "e74af1bb-79bf-483a-ab84-91ecef9e0748",
   "metadata": {},
   "source": [
    "##### №1"
   ]
  },
  {
   "cell_type": "code",
   "execution_count": 57,
   "id": "722f608a-4718-497d-9320-67e48c60df55",
   "metadata": {},
   "outputs": [
    {
     "name": "stdout",
     "output_type": "stream",
     "text": [
      "          id                              item  count  \\\n",
      "0  100480924     Смартфон Xiaomi Redmi 6A 16GB     44   \n",
      "1  100480938  Смартфон Samsung Galaxy A30 32GB     49   \n",
      "2  100480952  смартфон Samsung Galaxy A30 32gb     11   \n",
      "3  100480959          Смартфон HUAWEI P30 lite     38   \n",
      "4  100480975     Смартфон Apple iPhone Xr 64gb     10   \n",
      "5  100480988            Смартфон Honor 8X 64GB     64   \n",
      "6  100481020     Смартфон Apple iPhone Xr 64GB     19   \n",
      "\n",
      "                     item_lowercase  \n",
      "0     смартфон xiaomi redmi 6a 16gb  \n",
      "1  смартфон samsung galaxy a30 32gb  \n",
      "2  смартфон samsung galaxy a30 32gb  \n",
      "3          смартфон huawei p30 lite  \n",
      "4     смартфон apple iphone xr 64gb  \n",
      "5            смартфон honor 8x 64gb  \n",
      "6     смартфон apple iphone xr 64gb  \n"
     ]
    }
   ],
   "source": [
    "stock['item_lowercase'] = stock['item'].str.lower()\n",
    "print(stock)"
   ]
  },
  {
   "cell_type": "markdown",
   "id": "f37c25b2-048f-41fd-9741-2756d7380e5d",
   "metadata": {},
   "source": [
    "##### №2"
   ]
  },
  {
   "cell_type": "code",
   "execution_count": 58,
   "id": "16a2537b-1eed-40ec-a35c-e3f3d7fa47e0",
   "metadata": {},
   "outputs": [
    {
     "data": {
      "text/plain": [
       "смартфон samsung galaxy a30 32gb    2\n",
       "смартфон apple iphone xr 64gb       2\n",
       "смартфон xiaomi redmi 6a 16gb       1\n",
       "смартфон huawei p30 lite            1\n",
       "смартфон honor 8x 64gb              1\n",
       "Name: item_lowercase, dtype: int64"
      ]
     },
     "execution_count": 58,
     "metadata": {},
     "output_type": "execute_result"
    }
   ],
   "source": [
    "stock['item_lowercase'].value_counts()"
   ]
  },
  {
   "cell_type": "markdown",
   "id": "0c9d0367-cff6-4445-a3a0-a12cea6fca99",
   "metadata": {},
   "source": [
    "##### №3"
   ]
  },
  {
   "cell_type": "code",
   "execution_count": 59,
   "id": "ca873708-9d9c-4858-a03a-3e0f6b8023b1",
   "metadata": {},
   "outputs": [
    {
     "name": "stdout",
     "output_type": "stream",
     "text": [
      "29\n"
     ]
    }
   ],
   "source": [
    "apple = stock[stock['item_lowercase'] == 'смартфон apple iphone xr 64gb']['count'].sum()\n",
    "print(apple)"
   ]
  },
  {
   "cell_type": "markdown",
   "id": "cda07f82-35c2-4833-b59b-310177ba0ea1",
   "metadata": {},
   "source": [
    "##### №4"
   ]
  },
  {
   "cell_type": "code",
   "execution_count": 60,
   "id": "a3fa917b-83a1-432a-9a1a-e38335f38b1d",
   "metadata": {},
   "outputs": [
    {
     "name": "stdout",
     "output_type": "stream",
     "text": [
      "60\n"
     ]
    }
   ],
   "source": [
    "samsung = stock[stock['item_lowercase'] == 'смартфон samsung galaxy a30 32gb']['count'].sum()\n",
    "print(samsung)"
   ]
  },
  {
   "cell_type": "markdown",
   "id": "dd0f59da-e2c7-4394-966d-88edfce7b830",
   "metadata": {},
   "source": [
    "##### №5"
   ]
  },
  {
   "cell_type": "code",
   "execution_count": 61,
   "id": "6a8c5eb8-7ab0-403d-99f6-2dfe175f48d7",
   "metadata": {},
   "outputs": [
    {
     "name": "stdout",
     "output_type": "stream",
     "text": [
      "          id                              item  count  \\\n",
      "0  100480924     Смартфон Xiaomi Redmi 6A 16GB     44   \n",
      "1  100480938  Смартфон Samsung Galaxy A30 32GB     49   \n",
      "2  100480959          Смартфон HUAWEI P30 lite     38   \n",
      "3  100480975     Смартфон Apple iPhone Xr 64gb     10   \n",
      "4  100480988            Смартфон Honor 8X 64GB     64   \n",
      "\n",
      "                     item_lowercase  \n",
      "0     смартфон xiaomi redmi 6a 16gb  \n",
      "1  смартфон samsung galaxy a30 32gb  \n",
      "2          смартфон huawei p30 lite  \n",
      "3     смартфон apple iphone xr 64gb  \n",
      "4            смартфон honor 8x 64gb  \n"
     ]
    }
   ],
   "source": [
    "stock = stock.drop_duplicates(['item_lowercase']).reset_index(drop=True)\n",
    "print(stock)"
   ]
  },
  {
   "cell_type": "markdown",
   "id": "b218aa3b-7530-4c00-8055-1ae7ac1a7935",
   "metadata": {},
   "source": [
    "##### №6"
   ]
  },
  {
   "cell_type": "code",
   "execution_count": 62,
   "id": "6878ddb6-7a4d-4ee1-bedb-15aa593e417e",
   "metadata": {},
   "outputs": [
    {
     "name": "stdout",
     "output_type": "stream",
     "text": [
      "          id                              item  count  \\\n",
      "0  100480924     Смартфон Xiaomi Redmi 6A 16GB     44   \n",
      "1  100480938  Смартфон Samsung Galaxy A30 32GB     49   \n",
      "2  100480959          Смартфон HUAWEI P30 lite     38   \n",
      "3  100480975     Смартфон Apple iPhone Xr 64gb     10   \n",
      "4  100480988            Смартфон Honor 8X 64GB     64   \n",
      "\n",
      "                     item_lowercase  \n",
      "0     смартфон xiaomi redmi 6a 16gb  \n",
      "1  смартфон samsung galaxy a30 32gb  \n",
      "2          смартфон huawei p30 lite  \n",
      "3     смартфон apple iphone xr 64gb  \n",
      "4            смартфон honor 8x 64gb  \n"
     ]
    }
   ],
   "source": [
    "stock = stock.dropna().reset_index(drop=True)\n",
    "print(stock)"
   ]
  },
  {
   "cell_type": "markdown",
   "id": "8beee756-499a-4574-b6cb-f3e1f8837327",
   "metadata": {},
   "source": [
    "##### №7"
   ]
  },
  {
   "cell_type": "code",
   "execution_count": 63,
   "id": "7b9ac874-40c1-456d-b56b-7280c074a96e",
   "metadata": {},
   "outputs": [
    {
     "name": "stdout",
     "output_type": "stream",
     "text": [
      "          id                              item  count  \\\n",
      "0  100480924     Смартфон Xiaomi Redmi 6A 16GB     44   \n",
      "1  100480938  Смартфон Samsung Galaxy A30 32GB     49   \n",
      "2  100480959          Смартфон HUAWEI P30 lite     38   \n",
      "3  100480975     Смартфон Apple iPhone Xr 64gb     29   \n",
      "4  100480988            Смартфон Honor 8X 64GB     64   \n",
      "\n",
      "                     item_lowercase  \n",
      "0     смартфон xiaomi redmi 6a 16gb  \n",
      "1  смартфон samsung galaxy a30 32gb  \n",
      "2          смартфон huawei p30 lite  \n",
      "3     смартфон apple iphone xr 64gb  \n",
      "4            смартфон honor 8x 64gb  \n"
     ]
    }
   ],
   "source": [
    "stock.loc[stock['item_lowercase'] == 'смартфон apple iphone xr 64gb', 'count'] = apple\n",
    "print(stock)"
   ]
  },
  {
   "cell_type": "markdown",
   "id": "553f2911-9e04-44b2-bc1e-c423f65f45bf",
   "metadata": {},
   "source": [
    "##### №8"
   ]
  },
  {
   "cell_type": "code",
   "execution_count": 64,
   "id": "79c3dd4d-3da2-41c9-bbf1-cc96b8aade60",
   "metadata": {},
   "outputs": [
    {
     "name": "stdout",
     "output_type": "stream",
     "text": [
      "          id                              item  count  \\\n",
      "0  100480924     Смартфон Xiaomi Redmi 6A 16GB     44   \n",
      "1  100480938  Смартфон Samsung Galaxy A30 32GB     60   \n",
      "2  100480959          Смартфон HUAWEI P30 lite     38   \n",
      "3  100480975     Смартфон Apple iPhone Xr 64gb     29   \n",
      "4  100480988            Смартфон Honor 8X 64GB     64   \n",
      "\n",
      "                     item_lowercase  \n",
      "0     смартфон xiaomi redmi 6a 16gb  \n",
      "1  смартфон samsung galaxy a30 32gb  \n",
      "2          смартфон huawei p30 lite  \n",
      "3     смартфон apple iphone xr 64gb  \n",
      "4            смартфон honor 8x 64gb  \n"
     ]
    }
   ],
   "source": [
    "stock.loc[stock['item_lowercase'] == 'смартфон samsung galaxy a30 32gb', 'count'] = samsung\n",
    "print(stock)"
   ]
  },
  {
   "cell_type": "markdown",
   "id": "0d8b7cba-6312-4d37-96c8-22967b285662",
   "metadata": {},
   "source": [
    "### Категоризация данных"
   ]
  },
  {
   "cell_type": "markdown",
   "id": "00f59585-0d93-4362-a1e4-8878cf86e8aa",
   "metadata": {},
   "source": [
    "##### №1"
   ]
  },
  {
   "cell_type": "code",
   "execution_count": 65,
   "id": "468375bd-13b2-4245-9f8c-e229f3664bef",
   "metadata": {},
   "outputs": [
    {
     "name": "stdout",
     "output_type": "stream",
     "text": [
      "    user_id                Тип обращения  type_id      Время обращения\n",
      "0  DNcd8dnS   Жалоба на товар в магазине        3  2019-03-28 13:58:24\n",
      "1  0e9MvwGs                Мошенничество        5  2019-03-08 17:11:59\n",
      "2  boyDUG4C                Мошенничество        5  2019-03-03 17:52:34\n",
      "3  5jMA27s1   Жалоба на товар в магазине        3  2019-03-16 15:18:21\n",
      "4  wvtyctOK             Накрутка отзывов        2  2019-03-13 14:43:14\n",
      "5  zvN8W1tc         Жалоба на видеообзор        8  2019-03-29 20:32:17\n",
      "6  bBmybSbr             Не работает сайт        1  2019-04-08 21:37:15\n",
      "7  5JX1P5G8  Продажа запрещенных товаров        6  2019-04-06 12:15:20\n",
      "8  pbbG3xWx             Не работает сайт        1  2019-04-09 17:30:43\n",
      "9  vZWtTovT   Жалоба на товар в магазине        3  2019-04-16 12:26:16\n"
     ]
    }
   ],
   "source": [
    "support = pd.read_csv('./datasets/support.csv')\n",
    "print(support.head(10))"
   ]
  },
  {
   "cell_type": "markdown",
   "id": "812e9956-753a-457c-8d3f-7e25562cf38e",
   "metadata": {},
   "source": [
    "##### №2"
   ]
  },
  {
   "cell_type": "code",
   "execution_count": 66,
   "id": "3f77d18d-abf3-47de-820d-2f755cf79a26",
   "metadata": {},
   "outputs": [
    {
     "name": "stdout",
     "output_type": "stream",
     "text": [
      "<class 'pandas.core.frame.DataFrame'>\n",
      "RangeIndex: 3000 entries, 0 to 2999\n",
      "Data columns (total 4 columns):\n",
      " #   Column           Non-Null Count  Dtype \n",
      "---  ------           --------------  ----- \n",
      " 0   user_id          3000 non-null   object\n",
      " 1   Тип обращения    3000 non-null   object\n",
      " 2   type_id          3000 non-null   int64 \n",
      " 3   Время обращения  3000 non-null   object\n",
      "dtypes: int64(1), object(3)\n",
      "memory usage: 93.9+ KB\n"
     ]
    }
   ],
   "source": [
    "support.info()"
   ]
  },
  {
   "cell_type": "markdown",
   "id": "51823dc0-0843-46a5-b4c0-eb321d12a132",
   "metadata": {},
   "source": [
    "##### №3"
   ]
  },
  {
   "cell_type": "code",
   "execution_count": 67,
   "id": "1a9eacdf-de93-4fdd-85b0-7fe65be15a38",
   "metadata": {},
   "outputs": [
    {
     "name": "stdout",
     "output_type": "stream",
     "text": [
      "<class 'pandas.core.frame.DataFrame'>\n",
      "RangeIndex: 3000 entries, 0 to 2999\n",
      "Data columns (total 4 columns):\n",
      " #   Column        Non-Null Count  Dtype \n",
      "---  ------        --------------  ----- \n",
      " 0   user_id       3000 non-null   object\n",
      " 1   type_message  3000 non-null   object\n",
      " 2   type_id       3000 non-null   int64 \n",
      " 3   timestamp     3000 non-null   object\n",
      "dtypes: int64(1), object(3)\n",
      "memory usage: 93.9+ KB\n"
     ]
    }
   ],
   "source": [
    "support.rename(columns={'Тип обращения': 'type_message', 'Время обращения': 'timestamp'}, inplace=True)\n",
    "support.info()"
   ]
  },
  {
   "cell_type": "markdown",
   "id": "fa3b6bd9-798e-4d8d-be94-f4b42aef9ae9",
   "metadata": {},
   "source": [
    "#### Классификация по типу"
   ]
  },
  {
   "cell_type": "markdown",
   "id": "d2255dd5-37f6-41d6-99f5-1652d0e96752",
   "metadata": {},
   "source": [
    "##### №1"
   ]
  },
  {
   "cell_type": "code",
   "execution_count": 74,
   "id": "ef29ec4b-1781-478e-a653-5e3973aaa67b",
   "metadata": {},
   "outputs": [
    {
     "name": "stdout",
     "output_type": "stream",
     "text": [
      "Жалоба на товар в магазине      606\n",
      "Мошенничество                   586\n",
      "Продажа поддельной продукции    312\n",
      "Не работает сайт                311\n",
      "Продажа запрещенных товаров     303\n",
      "Накрутка отзывов                302\n",
      "Жалоба на видеообзор            297\n",
      "Отзыв удалён                    283\n",
      "Name: type_message, dtype: int64\n"
     ]
    }
   ],
   "source": [
    "support = pd.read_csv('./datasets/support_upd.csv')\n",
    "print(support['type_message'].value_counts())"
   ]
  },
  {
   "cell_type": "markdown",
   "id": "1419765e-fe43-4f75-a7fb-b425ea0f664d",
   "metadata": {},
   "source": [
    "##### №2"
   ]
  },
  {
   "cell_type": "code",
   "execution_count": 3,
   "id": "64459266-1c93-4ea8-991a-0a7b72fdacfd",
   "metadata": {},
   "outputs": [
    {
     "name": "stdout",
     "output_type": "stream",
     "text": [
      "    user_id  type_id            timestamp\n",
      "0  DNcd8dnS        3  2019-03-28 13:58:24\n",
      "1  0e9MvwGs        5  2019-03-08 17:11:59\n",
      "2  boyDUG4C        5  2019-03-03 17:52:34\n",
      "3  5jMA27s1        3  2019-03-16 15:18:21\n",
      "4  wvtyctOK        2  2019-03-13 14:43:14\n",
      "5  zvN8W1tc        8  2019-03-29 20:32:17\n",
      "6  bBmybSbr        1  2019-04-08 21:37:15\n",
      "7  5JX1P5G8        6  2019-04-06 12:15:20\n",
      "8  pbbG3xWx        1  2019-04-09 17:30:43\n",
      "9  vZWtTovT        3  2019-04-16 12:26:16\n"
     ]
    }
   ],
   "source": [
    "support_log = support[['user_id', 'type_id', 'timestamp']]\n",
    "print(support_log.head(10))"
   ]
  },
  {
   "cell_type": "markdown",
   "id": "4b5a9357-9a15-4daa-8454-364aba813bc7",
   "metadata": {},
   "source": [
    "##### №3"
   ]
  },
  {
   "cell_type": "code",
   "execution_count": 4,
   "id": "aa34221c-b39d-46b4-9228-cad1d4a4f22f",
   "metadata": {},
   "outputs": [
    {
     "name": "stdout",
     "output_type": "stream",
     "text": [
      "                  type_message  type_id\n",
      "0   Жалоба на товар в магазине        3\n",
      "1                Мошенничество        5\n",
      "2                Мошенничество        5\n",
      "3   Жалоба на товар в магазине        3\n",
      "4             Накрутка отзывов        2\n",
      "5         Жалоба на видеообзор        8\n",
      "6             Не работает сайт        1\n",
      "7  Продажа запрещенных товаров        6\n",
      "8             Не работает сайт        1\n",
      "9   Жалоба на товар в магазине        3\n"
     ]
    }
   ],
   "source": [
    "support_dict = support[['type_message', 'type_id']]\n",
    "print(support_dict.head(10))"
   ]
  },
  {
   "cell_type": "markdown",
   "id": "0003c3bb-58fe-4f35-98c7-f9517d37bd65",
   "metadata": {},
   "source": [
    "##### №4"
   ]
  },
  {
   "cell_type": "code",
   "execution_count": 5,
   "id": "72b3e067-ce4d-4e33-86e3-35a7f5129e6f",
   "metadata": {},
   "outputs": [
    {
     "name": "stdout",
     "output_type": "stream",
     "text": [
      "                   type_message  type_id\n",
      "4              Не работает сайт        1\n",
      "2              Накрутка отзывов        2\n",
      "0    Жалоба на товар в магазине        3\n",
      "6  Продажа поддельной продукции        4\n",
      "1                 Мошенничество        5\n",
      "5   Продажа запрещенных товаров        6\n",
      "7                  Отзыв удалён        7\n",
      "3          Жалоба на видеообзор        8\n"
     ]
    }
   ],
   "source": [
    "support_dict = support_dict.drop_duplicates().reset_index(drop=True)\n",
    "print(support_dict.sort_values('type_id'))"
   ]
  },
  {
   "cell_type": "markdown",
   "id": "004fcfcd-e019-484e-bee3-83aafed86b9a",
   "metadata": {},
   "source": [
    "#### Классификация по возрастным группам"
   ]
  },
  {
   "cell_type": "markdown",
   "id": "495a1547-3855-493d-9801-b7ecd3f37de5",
   "metadata": {},
   "source": [
    "##### №1"
   ]
  },
  {
   "cell_type": "code",
   "execution_count": 74,
   "id": "e7a29129-a15b-4858-9711-97a85352063a",
   "metadata": {},
   "outputs": [
    {
     "name": "stdout",
     "output_type": "stream",
     "text": [
      "   type_id  user_id  timestamp\n",
      "0        1      311        311\n",
      "1        2      302        302\n",
      "2        3      606        606\n",
      "3        4      312        312\n",
      "4        5      586        586\n",
      "5        6      303        303\n",
      "6        7      283        283\n",
      "7        8      297        297\n"
     ]
    }
   ],
   "source": [
    "support_log = pd.read_csv('./datasets/support_log.csv', index_col=0)\n",
    "support_log_grouped = support_log.groupby('type_id', as_index=False).count()\n",
    "print(support_log_grouped)"
   ]
  },
  {
   "cell_type": "markdown",
   "id": "c00682c3-58df-4c2e-ae59-f54d717903a2",
   "metadata": {},
   "source": [
    "##### №2"
   ]
  },
  {
   "cell_type": "code",
   "execution_count": 43,
   "id": "77096eba-a83e-4bf0-a56d-0872047575d6",
   "metadata": {},
   "outputs": [
    {
     "name": "stdout",
     "output_type": "stream",
     "text": [
      "средний\n",
      "высокий\n",
      "критичный\n"
     ]
    }
   ],
   "source": [
    "def alert_group(messages):\n",
    "    if (messages <= 300):\n",
    "        return 'средний'\n",
    "    if (messages > 300 and messages <= 500):\n",
    "        return 'высокий'\n",
    "    return 'критичный'\n",
    "\n",
    "\n",
    "print(alert_group(10))\n",
    "print(alert_group(450))\n",
    "print(alert_group(1000))"
   ]
  },
  {
   "cell_type": "markdown",
   "id": "06f22e0e-6ab8-4c54-8252-c545bec5686a",
   "metadata": {},
   "source": [
    "##### №3"
   ]
  },
  {
   "cell_type": "code",
   "execution_count": 72,
   "id": "2ec56006-520a-4085-ae3a-676aff0d5d3f",
   "metadata": {},
   "outputs": [
    {
     "name": "stdout",
     "output_type": "stream",
     "text": [
      "   type_id  user_id  timestamp alert_group\n",
      "0        1      311        311     высокий\n",
      "1        2      302        302     высокий\n",
      "2        3      606        606   критичный\n",
      "3        4      312        312     высокий\n",
      "4        5      586        586   критичный\n",
      "5        6      303        303     высокий\n",
      "6        7      283        283     средний\n",
      "7        8      297        297     средний\n"
     ]
    }
   ],
   "source": [
    "support_log_grouped['alert_group'] = support_log_grouped['user_id'].apply(alert_group)\n",
    "print(support_log_grouped.head(10))"
   ]
  },
  {
   "cell_type": "markdown",
   "id": "9b185f2f-6dc3-40f5-8d38-636d2307b499",
   "metadata": {},
   "source": [
    "##### №4"
   ]
  },
  {
   "cell_type": "code",
   "execution_count": 73,
   "id": "bbdf5954-993c-4c5d-8547-8da6ccc79396",
   "metadata": {},
   "outputs": [
    {
     "name": "stdout",
     "output_type": "stream",
     "text": [
      "alert_group\n",
      "высокий      1228\n",
      "критичный    1192\n",
      "средний       580\n",
      "Name: user_id, dtype: int64\n"
     ]
    }
   ],
   "source": [
    "print(support_log_grouped.groupby('alert_group')['user_id'].sum())"
   ]
  },
  {
   "cell_type": "markdown",
   "id": "65a0ebd5-9666-40c9-b4ea-9b0610dbd761",
   "metadata": {},
   "source": [
    "##### Функция для одной строки"
   ]
  },
  {
   "cell_type": "markdown",
   "id": "03c08319-3aec-435a-b68e-b37da2b1d376",
   "metadata": {},
   "source": [
    "##### №1"
   ]
  },
  {
   "cell_type": "code",
   "execution_count": 51,
   "id": "3118846f-175f-42d1-af3e-5f0511cd69ce",
   "metadata": {},
   "outputs": [
    {
     "name": "stdout",
     "output_type": "stream",
     "text": [
      "   type_id  user_id  timestamp alert_group  importance\n",
      "0        1      311        311     высокий           1\n",
      "1        2      302        302     высокий           0\n",
      "2        3      606        606   критичный           0\n",
      "3        4      312        312     высокий           1\n",
      "4        5      586        586   критичный           1\n",
      "5        6      303        303     высокий           1\n",
      "6        7      283        283     средний           1\n",
      "7        8      297        297     средний           0\n"
     ]
    }
   ],
   "source": [
    "support_log_grouped = pd.read_csv('./datasets/support_log_grouped.csv')\n",
    "print(support_log_grouped)"
   ]
  },
  {
   "cell_type": "markdown",
   "id": "3ba506f9-02f2-4c39-9c0e-a8bc5507de5f",
   "metadata": {},
   "source": [
    "##### №2"
   ]
  },
  {
   "cell_type": "code",
   "execution_count": 53,
   "id": "1ef9bbf2-7cd3-46cd-8cdb-1bd4e63687f2",
   "metadata": {},
   "outputs": [
    {
     "data": {
      "text/plain": [
       "'высокий риск'"
      ]
     },
     "execution_count": 53,
     "metadata": {},
     "output_type": "execute_result"
    }
   ],
   "source": [
    "def alert_group_importance(row):\n",
    "    if (row['importance'] == 1):\n",
    "        if (row['alert_group'] == 'средний'):\n",
    "            return 'обратить внимание'\n",
    "        if (row['alert_group'] == 'высокий'):\n",
    "            return 'высокий риск'\n",
    "        if (row['alert_group'] == 'критичный'):\n",
    "            return 'блокер'\n",
    "    return 'в порядке очереди'\n",
    "\n",
    "\n",
    "row_values = ['высокий', 1]\n",
    "row_columns = ['alert_group', 'importance']\n",
    "row = pd.Series(data=row_values, index=row_columns)\n",
    "alert_group_importance(row)"
   ]
  },
  {
   "cell_type": "markdown",
   "id": "b0a97287-b3cc-4d2c-ad97-b496d7ebc9e2",
   "metadata": {},
   "source": [
    "##### №3"
   ]
  },
  {
   "cell_type": "code",
   "execution_count": 56,
   "id": "cd41fd96-5b41-4c06-b952-d8aab82dced9",
   "metadata": {},
   "outputs": [
    {
     "name": "stdout",
     "output_type": "stream",
     "text": [
      "   type_id  user_id  timestamp alert_group  importance  importance_status\n",
      "0        1      311        311     высокий           1       высокий риск\n",
      "1        2      302        302     высокий           0  в порядке очереди\n",
      "2        3      606        606   критичный           0  в порядке очереди\n",
      "3        4      312        312     высокий           1       высокий риск\n",
      "4        5      586        586   критичный           1             блокер\n",
      "5        6      303        303     высокий           1       высокий риск\n",
      "6        7      283        283     средний           1  обратить внимание\n",
      "7        8      297        297     средний           0  в порядке очереди\n"
     ]
    }
   ],
   "source": [
    "support_log_grouped['importance_status'] = support_log_grouped.apply(alert_group_importance, axis=1)\n",
    "print(support_log_grouped)"
   ]
  },
  {
   "cell_type": "markdown",
   "id": "fbf13d29-2db0-41a8-a77c-a31332a194f9",
   "metadata": {},
   "source": [
    "##### №4"
   ]
  },
  {
   "cell_type": "code",
   "execution_count": 59,
   "id": "d65ca8e2-a457-4803-8d0c-710fffc872dc",
   "metadata": {},
   "outputs": [
    {
     "name": "stdout",
     "output_type": "stream",
     "text": [
      "высокий риск         3\n",
      "в порядке очереди    3\n",
      "блокер               1\n",
      "обратить внимание    1\n",
      "Name: importance_status, dtype: int64\n"
     ]
    }
   ],
   "source": [
    "print(support_log_grouped['importance_status'].value_counts())"
   ]
  },
  {
   "cell_type": "code",
   "execution_count": 75,
   "id": "684ade50-e96a-4257-8b95-6eac69ec1b17",
   "metadata": {},
   "outputs": [],
   "source": [
    "import dill\n",
    "dill.dump_session('sem_34.db')  # запись окружения в файл"
   ]
  },
  {
   "cell_type": "code",
   "execution_count": 76,
   "id": "47a8503a-d614-47b6-a4f4-5250fe5868c4",
   "metadata": {},
   "outputs": [],
   "source": [
    "import dill\n",
    "dill.load_session('./sem_34.db')  # чтение окружения из файла"
   ]
  }
 ],
 "metadata": {
  "kernelspec": {
   "display_name": "Python 3 (ipykernel)",
   "language": "python",
   "name": "python3"
  },
  "language_info": {
   "codemirror_mode": {
    "name": "ipython",
    "version": 3
   },
   "file_extension": ".py",
   "mimetype": "text/x-python",
   "name": "python",
   "nbconvert_exporter": "python",
   "pygments_lexer": "ipython3",
   "version": "3.9.7"
  }
 },
 "nbformat": 4,
 "nbformat_minor": 5
}
